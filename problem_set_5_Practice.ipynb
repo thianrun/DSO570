{
 "cells": [
  {
   "cell_type": "markdown",
   "metadata": {},
   "source": [
    "# Problem Set 5\n",
    "\n",
    "### Learning Objective:\n",
    "\n",
    "- Create Python code to automate a given task.\n",
    "\n",
    "### Overview:\n",
    "\n",
    "This problem set assesses your ability to construct a simulation model by probabilistic sampling, as discussed in the lectures for Week 5. Unlike the previous two problem sets, you are no longer required to give your steps in algorithmic thinking, but can simply include your final solutions here. (Nevertheless, you are still encouraged to apply the steps of algorithmic thinking on your own when solving the difficult problems, and it is probably faster overall to go through those steps in a systematic way rather than trying to jump steps and code everything at once, as the steps make debugging much faster.)\n",
    "\n",
    "### Grading\n",
    "\n",
    "There are three possible scores you can get from submitting this assignment on time (submitting a blank file or one without any apparent effort does not count). Note that the rubric is designed to incentivize you to go for 100% mastery of the material, as the little details matter a lot in programming. \n",
    "\n",
    "| Grade | Description |\n",
    "|--|--|\n",
    "| 5 out of 5 | Perfect submission with no significant errors. | \n",
    "| 4 out of 5 | Near perfect submission with one or more significant errors. |\n",
    "| 2 out of 5 | Apparent effort but far from perfect. |"
   ]
  },
  {
   "cell_type": "markdown",
   "metadata": {},
   "source": [
    "## Q1. Simulating Stock Prices"
   ]
  },
  {
   "cell_type": "markdown",
   "metadata": {},
   "source": [
    "This question asks you to simulate the weekly price of a certain stock, given the initial price, the expected change in price per week, the standard deviation per week, and the number of weeks to simulate.\n",
    "\n",
    "**Write a function called \"simulatePrice\" with the following input arguments:**\n",
    "\n",
    "- **initial**: a positive number representing the price in Week 0.\n",
    "- **mu**: the expected change in price from one week to the next.\n",
    "- **sigma**: the standard deviation in the change in price.\n",
    "- **N**: the number of weeks to simulate.\n",
    "\n",
    "The function should return a Pandas Series containing the simulated price of the stock from Week 0 through N. (Note that the initial price is the first entry and is not simulated.) \n",
    "\n",
    "You should assume the following probabilistic model. Suppose the price in week $t-1$ is $p_{t-1}$, then the price in week $t$ is given by\n",
    "\n",
    "$$p_t = \\begin{cases}\n",
    "0 & \\text{ if $p_{t-1} =0$, } \\\\\n",
    "\\max(0, p_{t-1}+\\epsilon_t) & \\text{ if $p_{t-1} > 0 $,}\n",
    "\\end{cases}$$\n",
    "where $\\epsilon_t$ is independently and Normally distributed with mean **mu** and standard deviation **sigma**, as given by the input arguments."
   ]
  },
  {
   "cell_type": "code",
   "execution_count": 15,
   "metadata": {},
   "outputs": [
    {
     "data": {
      "text/plain": [
       "0    1.000000\n",
       "1    1.383512\n",
       "2    1.383512\n",
       "3    1.583529\n",
       "4    1.583529\n",
       "5    1.583529\n",
       "dtype: float64"
      ]
     },
     "execution_count": 15,
     "metadata": {},
     "output_type": "execute_result"
    }
   ],
   "source": [
    "# Your code here.\n",
    "import numpy as np\n",
    "import pandas as pd\n",
    "\n",
    "initial = 1\n",
    "mu = 0.01\n",
    "sigma = 0.2\n",
    "N = 5\n",
    "sim = []\n",
    "\n",
    "for i in range(N+1):\n",
    "    if i == 0:\n",
    "        sim.append(initial)\n",
    "    else:\n",
    "        if sim[i-1] == 0:\n",
    "            sim.append(0)\n",
    "        else:\n",
    "            sim.append(sim[i-1] + max(0,np.random.normal(mu,sigma)))\n",
    "\n",
    "sim = pd.Series(sim)\n",
    "\n",
    "sim"
   ]
  },
  {
   "cell_type": "code",
   "execution_count": 32,
   "metadata": {},
   "outputs": [],
   "source": [
    "def simulatePrice(initial,mu,sigma,N):\n",
    "    import numpy as np\n",
    "    import pandas as pd\n",
    "    \n",
    "    sim = []\n",
    "\n",
    "    for i in range(N+1):\n",
    "        if i == 0:\n",
    "            sim.append(initial)\n",
    "        elif sim[-1] == 0:\n",
    "            sim.append(0)\n",
    "        else:\n",
    "            sim.append(max(0,sim[-1]+np.random.normal(mu,sigma)))\n",
    "\n",
    "    sim = pd.Series(sim)\n",
    "\n",
    "    return sim"
   ]
  },
  {
   "cell_type": "markdown",
   "metadata": {},
   "source": [
    "The following output shows the result of running the code with initial price of 1, mu=0.01, sigma=0.2, and N=5 weeks."
   ]
  },
  {
   "cell_type": "code",
   "execution_count": 33,
   "metadata": {},
   "outputs": [
    {
     "data": {
      "text/plain": [
       "0    1.000000\n",
       "1    1.362810\n",
       "2    1.452842\n",
       "3    1.658590\n",
       "4    2.116768\n",
       "5    2.500280\n",
       "dtype: float64"
      ]
     },
     "execution_count": 33,
     "metadata": {},
     "output_type": "execute_result"
    }
   ],
   "source": [
    "from numpy import random\n",
    "random.seed(0)\n",
    "simulatePrice(1,0.01,0.2,5)"
   ]
  },
  {
   "cell_type": "code",
   "execution_count": 2,
   "metadata": {},
   "outputs": [
    {
     "data": {
      "text/plain": [
       "0    1.000000\n",
       "1    1.362810\n",
       "2    1.452842\n",
       "3    1.658590\n",
       "4    2.116768\n",
       "5    2.500280\n",
       "dtype: float64"
      ]
     },
     "execution_count": 2,
     "metadata": {},
     "output_type": "execute_result"
    }
   ],
   "source": [
    "from numpy import random\n",
    "random.seed(0)\n",
    "simulatePrice(1,0.01,0.2,5)"
   ]
  },
  {
   "cell_type": "markdown",
   "metadata": {},
   "source": [
    "The following plots one random sequence of 52 weeks."
   ]
  },
  {
   "cell_type": "code",
   "execution_count": 34,
   "metadata": {},
   "outputs": [
    {
     "data": {
      "text/plain": [
       "<AxesSubplot:title={'center':'Simulated stock price'}>"
      ]
     },
     "execution_count": 34,
     "metadata": {},
     "output_type": "execute_result"
    },
    {
     "data": {
      "image/png": "[encoded data removed]",
      "text/plain": [
       "<Figure size 432x288 with 1 Axes>"
      ]
     },
     "metadata": {
      "needs_background": "light"
     },
     "output_type": "display_data"
    }
   ],
   "source": [
    "random.seed(0)\n",
    "simulatePrice(1,0.01,0.2,52).plot(title='Simulated stock price')"
   ]
  },
  {
   "cell_type": "code",
   "execution_count": 3,
   "metadata": {},
   "outputs": [
    {
     "data": {
      "text/plain": [
       "<AxesSubplot:title={'center':'Simulated stock price'}>"
      ]
     },
     "execution_count": 3,
     "metadata": {},
     "output_type": "execute_result"
    },
    {
     "data": {
      "image/png": "[encoded data removed]",
      "text/plain": [
       "<Figure size 432x288 with 1 Axes>"
      ]
     },
     "metadata": {
      "needs_background": "light"
     },
     "output_type": "display_data"
    }
   ],
   "source": [
    "random.seed(0)\n",
    "simulatePrice(1,0.01,0.2,52).plot(title='Simulated stock price')"
   ]
  },
  {
   "cell_type": "markdown",
   "metadata": {},
   "source": [
    "The following plots another random sequence and illustrates that once price hits zero, it stays there forever."
   ]
  },
  {
   "cell_type": "code",
   "execution_count": 35,
   "metadata": {},
   "outputs": [
    {
     "data": {
      "text/plain": [
       "<AxesSubplot:title={'center':'Simulated stock price'}>"
      ]
     },
     "execution_count": 35,
     "metadata": {},
     "output_type": "execute_result"
    },
    {
     "data": {
      "image/png": "[encoded data removed]",
      "text/plain": [
       "<Figure size 432x288 with 1 Axes>"
      ]
     },
     "metadata": {
      "needs_background": "light"
     },
     "output_type": "display_data"
    }
   ],
   "source": [
    "random.seed(2)\n",
    "simulatePrice(1,0.01,0.2,52).plot(title='Simulated stock price')"
   ]
  },
  {
   "cell_type": "code",
   "execution_count": 4,
   "metadata": {},
   "outputs": [
    {
     "data": {
      "text/plain": [
       "<AxesSubplot:title={'center':'Simulated stock price'}>"
      ]
     },
     "execution_count": 4,
     "metadata": {},
     "output_type": "execute_result"
    },
    {
     "data": {
      "image/png": "[encoded data removed]",
      "text/plain": [
       "<Figure size 432x288 with 1 Axes>"
      ]
     },
     "metadata": {
      "needs_background": "light"
     },
     "output_type": "display_data"
    }
   ],
   "source": [
    "random.seed(2)\n",
    "simulatePrice(1,0.01,0.2,52).plot(title='Simulated stock price')"
   ]
  },
  {
   "cell_type": "markdown",
   "metadata": {},
   "source": [
    "## Q2. Simulating a Strategy for Stock Trading\n",
    "\n",
    "This question asks you to evaluate an algorithmic trading strategy using a time series of stock prices, similar to the output in Q2.\n",
    "\n",
    "**Write a function called \"simulateTrades\" with the following input arguments:**\n",
    "\n",
    "- **prices**: a pandas Series of stock prices, with each entry representing the price of the stock in a given week. You can assume that all given prices are non-negative (i.e. $\\ge 0$).\n",
    "- **cash**: a positive decimal number designating the total amount of money you have at the very beginning, before any trades occur in Week 0. You use up cash when buying stocks and gain cash when selling stocks.\n",
    "- **p_L**: a threshold on the price to purchase. As soon as the stock price is less than or equal to this price, assuming that the price is non-zero, you would purchase as many shares as you can using all the cash you have. (**Note: you can only purchase an integer number of shares.** You can round down a number $n$ using the code `int(n)`. i.e., `int(3.6)` would yield 3.) If the price is equal to zero, then you would not purchase.\n",
    "- **p_H**: a threshold on the price to sell. As soon as the stock price is greater than or equal to this price, you would sell all the shares you have and convert it to cash. \n",
    "\n",
    "Assume that at the beginning, you have zero shares of the stock. Moreover, in the last week, you have to sell all the shares you have regardless of the price. **The function should return (not print) the total amount of cash you have at the end of all periods.** \n",
    "\n",
    "For example, suppose that `prices=pd.Series([1.1,1.3,0.8,1.3,1.6,0.4])`. Then\n",
    "\n",
    "- `simulateTrades(prices, 8, 0.8, 1.6)` returns 16.0 because you would buy 10 shares when the price hits 0.8 and sell then for 1.6 each when the price reaches 1.6. In the last period, you buy 40 shares at 0.4 but sell everything again at that price, so your cash doesn't change.\n",
    "- `simulateTrades(prices, 8, 0.8, 1.7)` returns 4.0 because while the sell price of 1.7 is never reached, you are stuck with 10 shares, which you are forced to sell in the last period for 0.4 each.\n",
    "- `simulateTrades(prices, 10, 0.8, 1.6)` returns 19.6 because you buy 12 shares when the price reaches 0.8, with 0.4 cash left, and you sell all 12 shares at a price of 1.6. Your ending cash is $0.4+1.6 \\times 12=19.6$.\n",
    "- `simulateTrades(prices, 8, 0.7, 1.6)` returns 8.0 because the price is never low enough for you to buy, so you end up with the same amount of cash you had at the beginning.\n",
    "- `simulateTrades(prices, 8, 0.8, 1.2)` returns 13.0 because you buy the 10 shares when the price hits 0.8 and sell everything when the price hits 1.3.\n",
    "- `simulateTrades(prices, 11, 1.2, 1.3)` returns 21.0 because you immediately buy 10 shares since the opening price of 1.1 is lower than 1.2. You sell these shares when the price hits 1.3, and now you have 13 dollars of cash. Once the price goes down to 0.8, you buy 16 shares, and have 0.2 in cash left. You sell those 16 shares when the price hits 1.3, so the final cash is $0.2+16 \\times 1.3 = 21.0$."
   ]
  },
  {
   "cell_type": "code",
   "execution_count": 66,
   "metadata": {},
   "outputs": [
    {
     "name": "stdout",
     "output_type": "stream",
     "text": [
      "share\tcash\n",
      "0\t8\n",
      "share\tcash\n",
      "0\t8\n",
      "share\tcash\n",
      "10\t0.0\n",
      "share\tcash\n",
      "10\t0.0\n",
      "share\tcash\n",
      "10\t0.0\n",
      "share\tcash\n",
      "10\t0.0\n"
     ]
    },
    {
     "data": {
      "text/plain": [
       "4.0"
      ]
     },
     "execution_count": 66,
     "metadata": {},
     "output_type": "execute_result"
    }
   ],
   "source": [
    "# Your code here.\n",
    "import pandas as pd\n",
    "from numpy import random\n",
    "\n",
    "prices = pd.Series([1.1,1.3,0.8,1.3,1.6,0.4])\n",
    "cash = 8\n",
    "p_L = 0.8\n",
    "p_H = 1.7\n",
    "share = 0\n",
    "\n",
    "for i in prices:\n",
    "    if i <= p_L:\n",
    "        new_share = int(cash/i)\n",
    "        share += new_share\n",
    "        cash -= new_share*i\n",
    "    elif (i >= p_H) & (share != 0):\n",
    "        cash += share*i\n",
    "        share = 0\n",
    "    # print(f'share\\tcash')\n",
    "    # print(f'{share}\\t{cash}')\n",
    "\n",
    "if share != 0:\n",
    "    cash += share * prices.iloc[-1]\n",
    "    \n",
    "cash"
   ]
  },
  {
   "cell_type": "code",
   "execution_count": 67,
   "metadata": {},
   "outputs": [],
   "source": [
    "def simulateTrades(prices,cash,p_L,p_H):\n",
    "    import pandas as pd\n",
    "\n",
    "    share = 0\n",
    "\n",
    "    for i in prices:\n",
    "        if i <= p_L:\n",
    "            new_share = int(cash/i)\n",
    "            share += new_share\n",
    "            cash -= new_share*i\n",
    "        elif (i >= p_H) & (share != 0):\n",
    "            cash += share*i\n",
    "            share = 0\n",
    "        # print(f'share\\tcash')\n",
    "        # print(f'{share}\\t{cash}')\n",
    "\n",
    "    if share != 0:\n",
    "        cash += share * prices.iloc[-1]\n",
    "        \n",
    "    return cash"
   ]
  },
  {
   "cell_type": "code",
   "execution_count": 68,
   "metadata": {},
   "outputs": [
    {
     "data": {
      "text/plain": [
       "16.0"
      ]
     },
     "execution_count": 68,
     "metadata": {},
     "output_type": "execute_result"
    }
   ],
   "source": [
    "# Sample runs\n",
    "import pandas as pd\n",
    "prices=pd.Series([1.1,1.3,0.8,1.3,1.6,0.4])\n",
    "simulateTrades(prices, 8, 0.8, 1.6)"
   ]
  },
  {
   "cell_type": "code",
   "execution_count": 69,
   "metadata": {},
   "outputs": [
    {
     "data": {
      "text/plain": [
       "4.0"
      ]
     },
     "execution_count": 69,
     "metadata": {},
     "output_type": "execute_result"
    }
   ],
   "source": [
    "simulateTrades(prices, 8, 0.8, 1.7)"
   ]
  },
  {
   "cell_type": "code",
   "execution_count": 70,
   "metadata": {},
   "outputs": [
    {
     "data": {
      "text/plain": [
       "19.6"
      ]
     },
     "execution_count": 70,
     "metadata": {},
     "output_type": "execute_result"
    }
   ],
   "source": [
    "simulateTrades(prices, 10, 0.8, 1.6)"
   ]
  },
  {
   "cell_type": "code",
   "execution_count": 71,
   "metadata": {},
   "outputs": [
    {
     "data": {
      "text/plain": [
       "8.0"
      ]
     },
     "execution_count": 71,
     "metadata": {},
     "output_type": "execute_result"
    }
   ],
   "source": [
    "simulateTrades(prices, 8, 0.7, 1.6)"
   ]
  },
  {
   "cell_type": "code",
   "execution_count": 72,
   "metadata": {},
   "outputs": [
    {
     "data": {
      "text/plain": [
       "13.0"
      ]
     },
     "execution_count": 72,
     "metadata": {},
     "output_type": "execute_result"
    }
   ],
   "source": [
    "simulateTrades(prices, 8, 0.8, 1.2)"
   ]
  },
  {
   "cell_type": "code",
   "execution_count": 73,
   "metadata": {
    "scrolled": true
   },
   "outputs": [
    {
     "data": {
      "text/plain": [
       "21.0"
      ]
     },
     "execution_count": 73,
     "metadata": {},
     "output_type": "execute_result"
    }
   ],
   "source": [
    "simulateTrades(prices, 11, 1.2, 1.3)"
   ]
  },
  {
   "cell_type": "markdown",
   "metadata": {},
   "source": [
    "## Q3. Simulating Demand under Price Promotions\n",
    "\n",
    "Suppose that a grocery store offers promotions on a certain product with probability $0.3$ every month, independent from other months. Conditional on whether there is a promotion in a month and on the promotion pattern of previous months, the monthly demand for the product is independently and normally distributed with the following parameters. (Assume that demand can take any decimal number and ignore the issue of negative demand.)\n",
    "\n",
    "| Month | Mean ($\\mu$) | Standard Deviation ($\\sigma$) |\n",
    "|--|--|--|\n",
    "| No promotion | 500 | 100 |\n",
    "| Promotion | 800 + 100$t$ | 150 |\n",
    "\n",
    "In the above table, $t$ is the number of months without a promotion since the last promotion. For example, if last month had a promotion, then $t=0$. If the neither of the last two months had a promotion but the month before had one, then $t=2$.\n",
    "\n",
    "**Write a function called \"simulateDemand\" with one input argument:**\n",
    "\n",
    "- **n**: the number of months to simulate. (Assume this is at least 1).\n",
    "\n",
    "**The function should return a list of $n$ numbers corresponding to $n$ consecutive months of simulated demand for the product.** Assume that just prior to the months in the simualtion, there was a promotion, so $t=0$ in the beginning. "
   ]
  },
  {
   "cell_type": "code",
   "execution_count": 79,
   "metadata": {},
   "outputs": [
    {
     "name": "stdout",
     "output_type": "stream",
     "text": [
      "[0]\t1\n",
      "[1]\t0\n",
      "[0]\t1\n",
      "[0]\t2\n",
      "[0]\t3\n",
      "[1]\t0\n",
      "[1]\t0\n",
      "[0]\t1\n",
      "[0]\t2\n",
      "[0]\t3\n"
     ]
    },
    {
     "data": {
      "text/plain": [
       "[531.6640633095418,\n",
       " 651.7623215343232,\n",
       " 394.5631998149856,\n",
       " 399.11084968182934,\n",
       " 497.58919995513395,\n",
       " 898.442751443828,\n",
       " 905.8266297533337,\n",
       " 426.6337235475339,\n",
       " 457.09838483038953,\n",
       " 392.469149159525]"
      ]
     },
     "execution_count": 79,
     "metadata": {},
     "output_type": "execute_result"
    }
   ],
   "source": [
    "# Your code here.\n",
    "\n",
    "from numpy import random\n",
    "\n",
    "n = 10\n",
    "t = 0\n",
    "\n",
    "demand = []\n",
    "\n",
    "for i in range(n):\n",
    "    promo = random.choice([1,0],1,[0.3,0.7])\n",
    "    if promo == 1:\n",
    "        demand.append(random.normal(800+(100*t),150))\n",
    "        t = 0\n",
    "    else:\n",
    "        demand.append(random.normal(500,100))\n",
    "        t += 1\n",
    "    print(f'{promo}\\t{t}')\n",
    "\n",
    "demand\n",
    "        "
   ]
  },
  {
   "cell_type": "code",
   "execution_count": 88,
   "metadata": {},
   "outputs": [],
   "source": [
    "def simulateDemand(n):  \n",
    "    from numpy import random\n",
    "\n",
    "    demand = []\n",
    "    t = 0\n",
    "\n",
    "    for i in range(n):\n",
    "        promo = random.choice([1,0],p = [0.3,0.7])\n",
    "        if promo == 1:\n",
    "            demand.append(random.normal(800+(100*t),150))\n",
    "            t = 0\n",
    "        else:\n",
    "            demand.append(random.normal(500,100))\n",
    "            t += 1\n",
    "\n",
    "    return demand"
   ]
  },
  {
   "cell_type": "code",
   "execution_count": 89,
   "metadata": {},
   "outputs": [
    {
     "data": {
      "text/plain": [
       "<AxesSubplot:title={'center':'Simulated demand for 36 months'}>"
      ]
     },
     "execution_count": 89,
     "metadata": {},
     "output_type": "execute_result"
    },
    {
     "data": {
      "image/png": "[encoded data removed]",
      "text/plain": [
       "<Figure size 432x288 with 1 Axes>"
      ]
     },
     "metadata": {
      "needs_background": "light"
     },
     "output_type": "display_data"
    }
   ],
   "source": [
    "import pandas as pd\n",
    "from numpy import random\n",
    "random.seed(0)\n",
    "pd.Series(simulateDemand(36))\\\n",
    "    .plot(title='Simulated demand for 36 months')"
   ]
  },
  {
   "cell_type": "code",
   "execution_count": 15,
   "metadata": {},
   "outputs": [
    {
     "data": {
      "text/plain": [
       "<AxesSubplot:title={'center':'Simulated demand for 36 months'}>"
      ]
     },
     "execution_count": 15,
     "metadata": {},
     "output_type": "execute_result"
    },
    {
     "data": {
      "image/png": "[encoded data removed]",
      "text/plain": [
       "<Figure size 432x288 with 1 Axes>"
      ]
     },
     "metadata": {
      "needs_background": "light"
     },
     "output_type": "display_data"
    }
   ],
   "source": [
    "# Test code (Your graph probably looks different because of randomness)\n",
    "import pandas as pd\n",
    "from numpy import random\n",
    "random.seed(0)\n",
    "pd.Series(simulateDemand(36))\\\n",
    "    .plot(title='Simulated demand for 36 months')"
   ]
  }
 ],
 "metadata": {
  "interpreter": {
   "hash": "a5cdaf32c2e8bec21917e924e9bfc5d049804a384a6f55861ea7049aa878018a"
  },
  "kernelspec": {
   "display_name": "Python 3",
   "language": "python",
   "name": "python3"
  },
  "language_info": {
   "codemirror_mode": {
    "name": "ipython",
    "version": 3
   },
   "file_extension": ".py",
   "mimetype": "text/x-python",
   "name": "python",
   "nbconvert_exporter": "python",
   "pygments_lexer": "ipython3",
   "version": "3.8.8"
  }
 },
 "nbformat": 4,
 "nbformat_minor": 2
}
