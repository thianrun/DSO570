{
 "cells": [
  {
   "cell_type": "markdown",
   "metadata": {},
   "source": [
    "# Name: Suwara Thianrungrot \n",
    "\n",
    "# Problem Set 1\n",
    "\n",
    "### Learning Objective:\n",
    "\n",
    "- Create Python code to automate a given task.\n",
    "\n",
    "### Overview:\n",
    "\n",
    "This problem set assesses your mastery of course content in Week 1, which includes basic programming concepts of objects, operators, variables, expressions, conditional execution and functions.\n",
    "\n",
    "### Recommended Steps: \n",
    "\n",
    "For each coding problem (Q2-Q5),\n",
    "\n",
    "1. Read the prompt and summarize the task in your own words, using as few words as possible for ease of comprehension.\n",
    "\n",
    "2. Pretend to be the computer program that you are trying to create. Examine the sample inputs and manually produce the appropriate results. Afterward, verify the correctness of your logic by comparing with the given sample outputs. \n",
    "\n",
    "3. Write on a scrap piece of paper step-by-step instructions so that someone else can pretend to be the computer program and produce the appropriate results for any possible inputs. These instructions should target a human audience who does not know the problem description and only has your instructions as guide. Refer to these instructions as your \"plan\".\n",
    "\n",
    "4. On another scrap piece of paper, write fragments of Python code to implement each step in your plan (from Step 3), focusing especially on the trickiest parts of the logic.\n",
    "\n",
    "5. Following your plan (from Step 3) and code fragments (from Step 4), type Python code into a new Jupyter notebook cell to solve the given problem. You should type incrementally and run the code whenever you added a small chunk, so as to correct errors as you go. It may also be helpful to print intermediate results to verify that the code indeed is carrying out the logic described in your plan.\n",
    "\n",
    "6. Run your code with the sample inputs and verify that the outputs are exactly the same as the sample outputs. Try also with other inputs that you make up and manually check that your program is correct. When there are Syntax errors, note that the arrows in the error message identify the line containing the error, and the last line of the error message contains a description of the error. You may find it helpful to Google for this description in the last line.\n",
    "\n",
    "7. After finishing all problems, click \"Kernel -> Restart & Run All\" and verify that your outputs for all problems continue to be correct. This ensures that someone else will be able to replicate your results when running your notebook.\n",
    "\n",
    "8. Submit the .ipynb notebook file on Blackboard by the deadline. **Note that you only need to submit the code from Step 6, but Steps 1-5 are to guide your thinking process.** Steps 1-5 are the essence of algorithmic thinking, which will be discussed in more detail in Weeks 3-4.\n",
    "\n",
    "### Grading\n",
    "\n",
    "There are three possible scores you can get from submitting this assignment on time (submitting a blank file or one without any apparent effort does not count). Note that the rubric is designed to incentivize you to go for 100% mastery of the material, as the little details matter a lot in programming. \n",
    "\n",
    "| Grade | Description |\n",
    "|--|--|\n",
    "| 5 out of 5 | Perfect submission with no significant errors. | \n",
    "| 4 out of 5 | Near perfect submission with one or more significant errors. |\n",
    "| 2 out of 5 | Apparent effort but far from perfect. |\n",
    "\n",
    "\n",
    "\n",
    "\n",
    "\n",
    "\n",
    "\n",
    "\n"
   ]
  },
  {
   "cell_type": "markdown",
   "metadata": {},
   "source": [
    "## Q0. Installation Check\n",
    "\n",
    "Run the following code cell and verify that there are no error messages, and that the Python version printed is 3.7 or above. If there are errors, then either you did not install Python correctly or did not install a package successfully. Refer back to the installation instructions in the \"Welcome\" module in Blackboard.\n",
    "\n",
    "**Note: Due to a bug in Jupyter notebook, you may need to run the following cell twice for the graph to show.**"
   ]
  },
  {
   "cell_type": "code",
   "execution_count": 1,
   "metadata": {},
   "outputs": [
    {
     "data": {
      "image/png": "[encoded data removed]",
      "text/plain": [
       "<Figure size 432x288 with 1 Axes>"
      ]
     },
     "metadata": {
      "needs_background": "light"
     },
     "output_type": "display_data"
    },
    {
     "name": "stdout",
     "output_type": "stream",
     "text": [
      "Success (Python 3.8)\n"
     ]
    }
   ],
   "source": [
    "import numpy as np\n",
    "import matplotlib.pyplot as plt\n",
    "from scipy.stats import norm, expon\n",
    "import pandas as pd\n",
    "import sys\n",
    "\n",
    "csvFile='tmp_assignment0.csv'\n",
    "xlsxFile='tmp_assignment0.xlsx'\n",
    "np.random.seed(0)\n",
    "df=pd.DataFrame({'X':np.linspace(0,10,10),'Random Data':norm(0,1).rvs(10)})\n",
    "df.to_csv(csvFile,index=False)\n",
    "df=pd.read_csv(csvFile)\n",
    "df.to_excel(xlsxFile,sheet_name='Test',index=False)\n",
    "df=pd.read_excel(xlsxFile,sheet_name='Test')\n",
    "df.plot('X','Random Data',kind='line')\n",
    "plt.show()\n",
    "\n",
    "print('Success (Python %d.%d)'%(sys.version_info[0],sys.version_info[1]))"
   ]
  },
  {
   "cell_type": "markdown",
   "metadata": {},
   "source": [
    "## Q1. Debugging\n",
    "\n",
    "What is wrong with the following programs? In each case, fill in a brief description of the problem(s) and fix it in the code cell. \n",
    "\n",
    "\n",
    "**a)**\n",
    "\n",
    "```python\n",
    "# This program is supposed to find the square of a number\n",
    "x=input('Enter number: '\n",
    "print(x,'squared is', x**2)\n",
    "```\n",
    " \n",
    "Description of error: Invalid syntax, need closing bracket. Moreover, you have to change type of input to float or integer before doing the operation."
   ]
  },
  {
   "cell_type": "code",
   "execution_count": 2,
   "metadata": {},
   "outputs": [
    {
     "name": "stdout",
     "output_type": "stream",
     "text": [
      "Enter number: 4\n",
      "4.0 squared is 16.0\n"
     ]
    }
   ],
   "source": [
    "# This program is supposed to find the square of a number\n",
    "x=float(input('Enter number: '))\n",
    "print(x,'squared is', x**2)"
   ]
  },
  {
   "cell_type": "markdown",
   "metadata": {},
   "source": [
    "**b)**\n",
    "\n",
    "```python\n",
    "name=input('What is your name: ')\n",
    "primt('Fight on' name)\n",
    "```\n",
    "Description of error: Invalid function and syntax, must be 'print' not 'primt' and must have ',' for concatinate the strings.\n"
   ]
  },
  {
   "cell_type": "code",
   "execution_count": 3,
   "metadata": {},
   "outputs": [
    {
     "name": "stdout",
     "output_type": "stream",
     "text": [
      "What is your name: Suwara\n",
      "Fight on Suwara\n"
     ]
    }
   ],
   "source": [
    "name=input('What is your name: ')\n",
    "print('Fight on', name)"
   ]
  },
  {
   "cell_type": "markdown",
   "metadata": {},
   "source": [
    "**c)**\n",
    "```python\n",
    "# This program find the sum of two inputed numbers, but the answer is wrong\n",
    "a=input('First Number: ')\n",
    "b=input('Second Number: ')\n",
    "print('Sum is',a+b)\n",
    "```\n",
    "Description of error: Wrong data type. Python sees input as a string. If you would like to sum numeric data, you have to change the data type to float or integer before doing the operation."
   ]
  },
  {
   "cell_type": "code",
   "execution_count": 4,
   "metadata": {},
   "outputs": [
    {
     "name": "stdout",
     "output_type": "stream",
     "text": [
      "First Number: 4\n",
      "Second Number: 5\n",
      "Sum is 9.0\n"
     ]
    }
   ],
   "source": [
    "# This program find the sum of two inputed numbers, but the answer is wrong\n",
    "a=input('First Number: ')\n",
    "b=input('Second Number: ')\n",
    "print('Sum is',float(a)+float(b))"
   ]
  },
  {
   "cell_type": "markdown",
   "metadata": {},
   "source": [
    "## Q2. Temperature Converter\n",
    "\n",
    "Write a program that asks for the user to input a temperature in Fahrenheit and convert it to Celcius, using the formula\n",
    "$$T_{celcius} = (T_{fahrenheit}-32)\\times \\frac{5}{9}.$$\n",
    "\n",
    "The program should elicit the user to input a number using the prompt \"Enter temperature in Fahrenheit:\". Afterward, the program should print a line giving the temperature in celcius, rounded to two decimal places. You can see how to run this by running the following line in its own cell.\n",
    "\n",
    "```python\n",
    "help(round)\n",
    "```\n",
    "\n",
    "**Sample run 1:**\n",
    "```\n",
    "Enter temperature in Fahrenheit: 77\n",
    "Equivalent temperature in celcius: 25.0\n",
    "```\n",
    "\n",
    "**Sample run 2:**\n",
    "```\n",
    "Enter temperature in Fahrenheit: 77.5\n",
    "Equivalent temperature in celcius: 25.28\n",
    "```"
   ]
  },
  {
   "cell_type": "code",
   "execution_count": 5,
   "metadata": {},
   "outputs": [
    {
     "name": "stdout",
     "output_type": "stream",
     "text": [
      "Enter temperature in Fahrenheit: 77\n",
      "Equivalent temperature in celcius: 25.0\n"
     ]
    }
   ],
   "source": [
    "# Write your final solution here\n",
    "f = float(input('Enter temperature in Fahrenheit: '))\n",
    "print(f'Equivalent temperature in celcius: {round((f-32)*5/9,2)}')"
   ]
  },
  {
   "cell_type": "markdown",
   "metadata": {},
   "source": [
    "## Q3. BMI Calculator\n",
    "\n",
    "Write a program which asks users to input their weight (in lbs) and height (in inches), and compute their body mass index (BMI), which is defind as $BMI=\\frac{W}{H^2}$, where $W$ is their weight converted to kg, and $H$ is their height converted to m. (Assume 1 kg=2.205 lbs, and 1 m = 39.37 inches.) The program can assume that the weight and height the user inputs are positive numbers. (i.e., Do not worry about \"exception handling.\") \n",
    "\n",
    "|Classification | BMI ($kg/m^2$) |\n",
    "|--|--|\n",
    "|Underweight: | <18.5 |\n",
    "|Normal: | 18.5 to 25 (>=18.5 but <25) |\n",
    "|Overweight: | 25 to 30 (>=25 but <30) |\n",
    "|Obese: | >=30 |\n",
    "\n",
    "The program should print a message classifying the BMI according to the above chart. The message must round the outputed BMI to 2 decimal places, and be formated exactly as the sample outputs below. \n",
    "\n",
    "**Sample run 1:**\n",
    "```\n",
    "Please input your weight (in lbs): 145\n",
    "Please input your height (in inches): 71\n",
    "Your BMI is 20.22, which is classified as Normal.\n",
    "```\n",
    "\n",
    "**Sample run 2:**\n",
    "```\n",
    "Please input your weight (in lbs): 180.5\n",
    "Please input your height (in inches): 60.5\n",
    "Your BMI is 34.66, which is classified as Obese.\n",
    "```"
   ]
  },
  {
   "cell_type": "code",
   "execution_count": 6,
   "metadata": {},
   "outputs": [
    {
     "name": "stdout",
     "output_type": "stream",
     "text": [
      "Please input your weight (in lbs): 145\n",
      "Please input your height (in inches): 71\n",
      "Your BMI is 20.22, which is classified as Normal.\n"
     ]
    }
   ],
   "source": [
    "# Write your final solution here\n",
    "w = float(input('Please input your weight (in lbs): '))\n",
    "h = float(input('Please input your height (in inches): '))\n",
    "bmi = round((w/2.205)/((h/39.37)**2),2)\n",
    "\n",
    "if bmi < 18.5:\n",
    "    print(f'Your BMI is {bmi}, which is classified as Underweight.')\n",
    "elif bmi < 25:\n",
    "    print(f'Your BMI is {bmi}, which is classified as Normal.')\n",
    "elif bmi < 30:\n",
    "    print(f'Your BMI is {bmi}, which is classified as Overweight.')\n",
    "else:\n",
    "    print(f'Your BMI is {bmi}, which is classified as Obese.')"
   ]
  },
  {
   "cell_type": "markdown",
   "metadata": {},
   "source": [
    "## Q4. BMI Calculator v2\n",
    "\n",
    "This question asks you to package the code from Q3 into a function. In general, whenever you are asked to code a function, you should follow the steps in this exercise to first develop a version without the function as in Q3, and package the code into a function only once everything is correct. To package a segment of code into a function, copy and paste the code segment into a new cell, highlight everything and press Tab to indent everything, then write the function declaration at the beginning, and make minor edits to make sure that the code segment is using the inputs from the function.\n",
    "\n",
    "Write a function called `calculateBMI` with two input arguments:\n",
    "\n",
    "- `weight`: the person's weight in lbs.\n",
    "- `height`: the person's height in inches.\n",
    "\n",
    "The function should return two objects:\n",
    "\n",
    "- `bmi`: the person's BMI (not rounded, unlike in Q3).\n",
    "- `classification`: whether the person is \"Underweight\", \"Normal\", \"Overweight\", or \"Obese\", as in Q3.\n",
    "\n",
    "**Sample input 1:**\n",
    "\n",
    "```python\n",
    "bmi,classification=calculateBMI(145,71)\n",
    "print('BMI:',bmi)\n",
    "print('classification:',classification)\n",
    "```\n",
    "\n",
    "Correct output:\n",
    "\n",
    "```\n",
    "BMI: 20.21964566293356\n",
    "classification: Normal\n",
    "```\n",
    "\n",
    "**Sample input 2:**\n",
    "\n",
    "```python\n",
    "calculateBMI(160,60)\n",
    "```\n",
    "\n",
    "Correct output:\n",
    "\n",
    "```\n",
    "(31.24206399596875, 'Obese')\n",
    "```\n",
    "\n",
    "**Sample input 3:**\n",
    "\n",
    "```python\n",
    "weight=float(input('Enter weight (lbs): '))\n",
    "height=float(input('Enter height (inches): '))\n",
    "bmi,classification=calculateBMI(145,71)\n",
    "print(f\"The person's BMI is {round(bmi,2)}, which is {classification}.\")\n",
    "```\n",
    "\n",
    "Sample output (as in Q3, output depends on what user inputs):\n",
    "\n",
    "```\n",
    "weight=float(input('Enter weight (lbs): '))\n",
    "height=float(input('Enter height (inches): '))\n",
    "bmi,classification=calculateBMI(145,71)\n",
    "print(f\"The person's BMI is {round(bmi,2)}, which is {classification}.\")\n",
    "```\n",
    "\n",
    "\n"
   ]
  },
  {
   "cell_type": "code",
   "execution_count": 7,
   "metadata": {},
   "outputs": [],
   "source": [
    "# Write your final function here\n",
    "def calculateBMI(weight, height):\n",
    "    bmi = (weight/2.205)/((height/39.37)**2)\n",
    "    if bmi < 18.5:\n",
    "        classification = 'Underweight'\n",
    "    elif bmi < 25:\n",
    "        classification = 'Normal'\n",
    "    elif bmi < 30:\n",
    "        classification = 'Overweight'\n",
    "    else:\n",
    "        classification = 'Obese'\n",
    "    return bmi, classification"
   ]
  },
  {
   "cell_type": "code",
   "execution_count": 8,
   "metadata": {},
   "outputs": [
    {
     "name": "stdout",
     "output_type": "stream",
     "text": [
      "BMI: 20.21964566293356\n",
      "classification: Normal\n"
     ]
    }
   ],
   "source": [
    "# Sample run 1\n",
    "bmi,classification=calculateBMI(145,71)\n",
    "print('BMI:',bmi)\n",
    "print('classification:',classification)"
   ]
  },
  {
   "cell_type": "code",
   "execution_count": 9,
   "metadata": {},
   "outputs": [
    {
     "data": {
      "text/plain": [
       "(31.24206399596875, 'Obese')"
      ]
     },
     "execution_count": 9,
     "metadata": {},
     "output_type": "execute_result"
    }
   ],
   "source": [
    "# Sample run 2\n",
    "calculateBMI(160,60)"
   ]
  },
  {
   "cell_type": "code",
   "execution_count": 10,
   "metadata": {},
   "outputs": [
    {
     "name": "stdout",
     "output_type": "stream",
     "text": [
      "Enter weight (lbs): 145\n",
      "Enter height (inches): 71\n",
      "The person's BMI is 20.22, which is Normal.\n"
     ]
    }
   ],
   "source": [
    "# Sample run 3\n",
    "weight=float(input('Enter weight (lbs): '))\n",
    "height=float(input('Enter height (inches): '))\n",
    "bmi,classification=calculateBMI(weight,height)\n",
    "print(f\"The person's BMI is {round(bmi,2)}, which is {classification}.\")"
   ]
  },
  {
   "cell_type": "markdown",
   "metadata": {},
   "source": [
    "## Q5. Blood Sugar Checker\n",
    "\n",
    "Write a function called `bloodSugarCheck` with two input arguments:\n",
    "\n",
    "- `hours`: the number hours the patient has fasted.\n",
    "- `level`: the patient's blood sugar level.\n",
    "\n",
    "The function should print a message based on the following logic:\n",
    "\n",
    "- If they have fasted strictly less than 2 hours, then print \"You need to fast at least 2 hours to perform this test.\" \n",
    "- If they fasted at least 2 hours but strictly less than 8 hours, then print \"Your blood sugar level is high\" if `level` is  strictly more than 140, and \"Your blood sugar level is normal\" otherwise. \n",
    "- If they fasted for at least 8 hours, then print \"Your blood sugar level is high\" if `level` is strictly more than 100, and \"Your blood sugar level is normal\" otherwise. \n",
    "\n",
    "Include the doc-string \"Function for triaging a patient's blood sugar level based on hours of fasting and current level.\"\n",
    "\n",
    "**Sample run 1:**\n",
    "\n",
    "```python\n",
    "bloodSugarCheck(1,100)\n",
    "```\n",
    "\n",
    "Correct output:\n",
    "\n",
    "```\n",
    "You need to fast at least 2 hours to perform this test.\n",
    "```\n",
    "\n",
    "**Sample run 2:**\n",
    "\n",
    "```python\n",
    "bloodSugarCheck(2,110)\n",
    "```\n",
    "\n",
    "Correct output:\n",
    "\n",
    "```\n",
    "Your blood suguar level is normal.\n",
    "```\n",
    "\n",
    "**Sample run 3:**\n",
    "\n",
    "```python\n",
    "bloodSugarCheck(2,141)\n",
    "```\n",
    "\n",
    "Correct output:\n",
    "\n",
    "```\n",
    "Your blood sugar level is high.\n",
    "```\n",
    "\n",
    "**Sample run 4:**\n",
    "\n",
    "```python\n",
    "bloodSugarCheck(8,110)\n",
    "```\n",
    "\n",
    "Correct output:\n",
    "\n",
    "```\n",
    "Your blood sugar level is high.\n",
    "```\n",
    "\n",
    "**Sample run 5:**\n",
    "\n",
    "```python\n",
    "help(bloodSugarCheck)\n",
    "```\n",
    "\n",
    "Correct output: \n",
    "\n",
    "```\n",
    "Help on function bloodSugarCheck in module __main__:\n",
    "\n",
    "bloodSugarCheck(hours, level)\n",
    "    Function for triaging a patient's blood sugar level based on hours of fasting and current level.\n",
    "```"
   ]
  },
  {
   "cell_type": "code",
   "execution_count": 11,
   "metadata": {},
   "outputs": [],
   "source": [
    "# Write your final function here\n",
    "def bloodSugarCheck(hours, level):\n",
    "    '''\n",
    "    Function for triaging a patient’s blood sugar level based on hours of fasting and current level.\n",
    "    '''\n",
    "    if hours < 2:\n",
    "        return print('You need to fast at least 2 hours to perform this test.')\n",
    "    elif hours < 8 and level > 140:\n",
    "        return print('Your blood sugar level is high.')\n",
    "    elif hours < 8 and level <= 140:\n",
    "        return print('Your blood sugar level is normal.')\n",
    "    elif hours >= 8 and level > 100:\n",
    "        return print('Your blood sugar level is high.')\n",
    "    else:\n",
    "        return print('Your blood sugar level is normal.')"
   ]
  },
  {
   "cell_type": "code",
   "execution_count": 12,
   "metadata": {},
   "outputs": [
    {
     "name": "stdout",
     "output_type": "stream",
     "text": [
      "You need to fast at least 2 hours to perform this test.\n"
     ]
    }
   ],
   "source": [
    "bloodSugarCheck(1,100)"
   ]
  },
  {
   "cell_type": "code",
   "execution_count": 13,
   "metadata": {},
   "outputs": [
    {
     "name": "stdout",
     "output_type": "stream",
     "text": [
      "Your blood sugar level is normal.\n"
     ]
    }
   ],
   "source": [
    "bloodSugarCheck(2,110)"
   ]
  },
  {
   "cell_type": "code",
   "execution_count": 14,
   "metadata": {},
   "outputs": [
    {
     "name": "stdout",
     "output_type": "stream",
     "text": [
      "Your blood sugar level is high.\n"
     ]
    }
   ],
   "source": [
    "bloodSugarCheck(2,141)"
   ]
  },
  {
   "cell_type": "code",
   "execution_count": 15,
   "metadata": {},
   "outputs": [
    {
     "name": "stdout",
     "output_type": "stream",
     "text": [
      "Your blood sugar level is high.\n"
     ]
    }
   ],
   "source": [
    "bloodSugarCheck(8,110)"
   ]
  },
  {
   "cell_type": "code",
   "execution_count": 16,
   "metadata": {},
   "outputs": [
    {
     "name": "stdout",
     "output_type": "stream",
     "text": [
      "Help on function bloodSugarCheck in module __main__:\n",
      "\n",
      "bloodSugarCheck(hours, level)\n",
      "    Function for triaging a patient’s blood sugar level based on hours of fasting and current level.\n",
      "\n"
     ]
    }
   ],
   "source": [
    "help(bloodSugarCheck)"
   ]
  }
 ],
 "metadata": {
  "kernelspec": {
   "display_name": "Python 3",
   "language": "python",
   "name": "python3"
  },
  "language_info": {
   "codemirror_mode": {
    "name": "ipython",
    "version": 3
   },
   "file_extension": ".py",
   "mimetype": "text/x-python",
   "name": "python",
   "nbconvert_exporter": "python",
   "pygments_lexer": "ipython3",
   "version": "3.8.8"
  }
 },
 "nbformat": 4,
 "nbformat_minor": 2
}
