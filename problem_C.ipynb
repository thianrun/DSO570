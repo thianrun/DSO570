{
 "cells": [
  {
   "cell_type": "markdown",
   "id": "8fdbe2b0",
   "metadata": {},
   "source": [
    "## Problem C\n",
    "\n",
    "A challenge in predictive analytics is to select a few good features out of many thousands of possibilities, so that a linear regression model estimated using these few features still has good predictive power. In this exercise, you will implement a reusable tool that solves this problem using mixed integer programming.\n",
    "\n",
    "The input file is of Excel format and has one sheet. Each row represents an observation. The first column corresponds to the dependent variable the user wishes to predict. Each following column corresponds to a feature that may be used for prediction. The name of the dependent variable as well as the features are given as the first row.\n",
    "\n",
    "![Sample input for 12.A](12-regression.png)"
   ]
  },
  {
   "cell_type": "markdown",
   "id": "3ee1e009",
   "metadata": {},
   "source": [
    "You should implements the following MIP formulation.\n",
    "\n",
    "**Data:**\n",
    "\n",
    "- $I$: the set of rows (`range(5)` in the example above, but should be inferred from the data).\n",
    "- $J$: the set of features (\"X1\", \"X2\", $\\cdots$, \"X8\" in the example above, but should be inferred from the data).\n",
    "- $y_i$: the value of the independent variable in row $i$.\n",
    "- $x_{ij}$: the value of feature $j$ in row $i$. \n",
    "- $k$: the maximum number of features used.\n",
    "- $M$: a big constant.\n",
    "\n",
    "**Decision Variables:**\n",
    "\n",
    "- $\\alpha$: the coefficient of the constant term. (Continuous)\n",
    "- $\\beta_j$: the coefficient for feature $j$. (Continuous)\n",
    "- $p_i$: the predicted value for observation $i$. (Continuous)\n",
    "- $z_j$: whether to use feature $j$. (Binary)\n",
    "\n",
    "**Objective and Constraints:**\n",
    "\n",
    "$$\\begin{aligned}\n",
    "\\text{Minimize} && \\sum_{i \\in I} (y_i - p_i)^2 \\\\\n",
    "\\text{s.t} \\\\\n",
    "\\text{(Linear prediction)} && p_i &= \\alpha + \\sum_{j \\in J}x_{ij} \\beta_j && \\text{for each row $i\\in I$.} \\\\\n",
    "\\text{(Big M)} && -Mz_j \\le \\beta_j &\\le Mz_j && \\text{for each feature $j \\in J$.} \\\\\n",
    "\\text{(Using few features)} && \\sum_{j \\in J}z_j &\\le k\n",
    "\\end{aligned}$$\n",
    "\n",
    "**Note that the variables $\\alpha$, $\\beta_j$ and $p_i$ are NOT constrained to be non-negative.**"
   ]
  },
  {
   "cell_type": "markdown",
   "id": "ca148a61",
   "metadata": {},
   "source": [
    "**Write a function called \"regress\" to implement the above MIP with three input parameters: **\n",
    "\n",
    "- inputFile: the path to an input file of the following format. \n",
    "- k: the value of the parameter $k$ (see list of data variables above).\n",
    "- M: the value of the parameter $M$ (see list of data variables above).\n",
    "\n",
    "**The function should return a pandas Series object with at most k+1 elements. The first entry has index \"Constant\" and the value corresponds to the optimal value of $\\alpha$. For the subsequent elements, the index corresponds to the name of the features used, and the value correspond to the estimated coefficient $\\beta_j$. Only the non-zero coefficients $\\beta_j$ should be included.** See below for the Series returned using the input file above, and $k=2$, $M=100$."
   ]
  },
  {
   "cell_type": "code",
   "execution_count": 46,
   "id": "419a2286",
   "metadata": {},
   "outputs": [
    {
     "data": {
      "text/plain": [
       "Constant    4.084086\n",
       "X3          2.051074\n",
       "X5          2.969166\n",
       "dtype: float64"
      ]
     },
     "execution_count": 46,
     "metadata": {},
     "output_type": "execute_result"
    }
   ],
   "source": [
    "import pandas as pd\n",
    "from gurobi import GRB, Model\n",
    "\n",
    "input = pd.read_excel('12-regression-input.xlsx')\n",
    "k = 2\n",
    "M = 100\n",
    "\n",
    "I = range(len(input))\n",
    "J = [i for i in input.columns if i != 'Y']\n",
    "\n",
    "mod = Model()\n",
    "a = mod.addVar(name = 'alpha',lb=-GRB.INFINITY)\n",
    "b = mod.addVars(J,name = 'beta',lb=-GRB.INFINITY)\n",
    "p = mod.addVars(I,name = 'p',lb=-GRB.INFINITY)\n",
    "z = mod.addVars(J, name = 'z', vtype = GRB.BINARY)\n",
    "mod.setObjective(sum((input.loc[i,'Y']-p[i])**2 for i in I), sense = GRB.MINIMIZE)\n",
    "mod.addConstrs((p[i] == a + sum(input.loc[i,j]*b[j] for j in J) for i in I), name = 'p')\n",
    "mod.addConstrs((-M*z[j] <= b[j] for j in J), name = 'Big M')\n",
    "mod.addConstrs((M*z[j] >= b[j] for j in J), name = 'Big M')\n",
    "mod.addConstr((sum(z[j] for j in J) <= k), name = 'Features')\n",
    "\n",
    "# mod.update()\n",
    "# mod.write('ProblemC2.lp')\n",
    "\n",
    "# %cat 'ProblemC2.lp'\n",
    "\n",
    "mod.setParam('OutputFlag',False)\n",
    "mod.optimize()\n",
    "\n",
    "ans = pd.Series(dtype = 'float64')\n",
    "ans['Constant'] = a.x\n",
    "for j in J:\n",
    "    if z[j].x == 1:\n",
    "        ans[j] = b[j].x\n",
    "        \n",
    "ans    "
   ]
  },
  {
   "cell_type": "code",
   "execution_count": 45,
   "id": "11f12633",
   "metadata": {},
   "outputs": [
    {
     "data": {
      "text/plain": [
       "Constant    4.084086\n",
       "X3          2.051074\n",
       "X5          2.969166\n",
       "dtype: float64"
      ]
     },
     "execution_count": 45,
     "metadata": {},
     "output_type": "execute_result"
    }
   ],
   "source": [
    "# Test code\n",
    "coefficients = regress('12-regression-input.xlsx',2,100)\n",
    "coefficients"
   ]
  },
  {
   "cell_type": "markdown",
   "id": "9ab3c46c",
   "metadata": {},
   "source": [
    "**Write your function below. You must import all packages needed.**"
   ]
  },
  {
   "cell_type": "code",
   "execution_count": 44,
   "id": "715f6fad",
   "metadata": {},
   "outputs": [],
   "source": [
    "# Final code\n",
    "def regress(inputfile,k,M):\n",
    "    \n",
    "    import pandas as pd\n",
    "    from gurobi import GRB, Model\n",
    "\n",
    "    input = pd.read_excel(inputfile)\n",
    "\n",
    "    I = range(len(input))\n",
    "    J = [i for i in input.columns if i != 'Y']\n",
    "\n",
    "    mod = Model()\n",
    "    a = mod.addVar(name = 'alpha',lb=-GRB.INFINITY)\n",
    "    b = mod.addVars(J,name = 'beta',lb=-GRB.INFINITY)\n",
    "    p = mod.addVars(I,name = 'p',lb=-GRB.INFINITY)\n",
    "    z = mod.addVars(J, name = 'z', vtype = GRB.BINARY)\n",
    "    mod.setObjective(sum((input.loc[i,'Y']-p[i])**2 for i in I), sense = GRB.MINIMIZE)\n",
    "    mod.addConstrs((p[i] == a + sum(input.loc[i,j]*b[j] for j in J) for i in I), name = 'p')\n",
    "    mod.addConstrs((-M*z[j] <= b[j] for j in J), name = 'Big M')\n",
    "    mod.addConstrs((M*z[j] >= b[j] for j in J), name = 'Big M')\n",
    "    mod.addConstr((sum(z[j] for j in J) <= k), name = 'Features')\n",
    "\n",
    "    # mod.update()\n",
    "    # mod.write('ProblemC2.lp')\n",
    "\n",
    "    # %cat 'ProblemC2.lp'\n",
    "\n",
    "    mod.setParam('OutputFlag',False)\n",
    "    mod.optimize()\n",
    "\n",
    "    ans = pd.Series(dtype = 'float64')\n",
    "    ans['Constant'] = a.x\n",
    "    for j in J:\n",
    "        if z[j].x == 1:\n",
    "            ans[j] = b[j].x\n",
    "            \n",
    "    return ans    "
   ]
  }
 ],
 "metadata": {
  "kernelspec": {
   "display_name": "Python 3",
   "language": "python",
   "name": "python3"
  },
  "language_info": {
   "codemirror_mode": {
    "name": "ipython",
    "version": 3
   },
   "file_extension": ".py",
   "mimetype": "text/x-python",
   "name": "python",
   "nbconvert_exporter": "python",
   "pygments_lexer": "ipython3",
   "version": "3.8.8"
  }
 },
 "nbformat": 4,
 "nbformat_minor": 5
}
