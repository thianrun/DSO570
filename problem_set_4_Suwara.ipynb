{
 "cells": [
  {
   "cell_type": "markdown",
   "metadata": {},
   "source": [
    "# Problem Set 4\n",
    "\n",
    "### Learning Objective:\n",
    "\n",
    "- Create Python code to automate a given task.\n",
    "\n",
    "### Overview:\n",
    "\n",
    "This problem set assesses your algorithmic thinking, which is the focus of weeks 3 and 4. For each problem, you are required to go through all four steps of algorithmic thinking. See the sample solutions to Exercises 3.6, 4.2, 4.3 an 4.5 for examples of the desired format of your responses.\n",
    "\n",
    "### Grading\n",
    "\n",
    "There are three possible scores you can get from submitting this assignment on time (submitting a blank file or one without any apparent effort does not count). Note that the rubric is designed to incentivize you to go for 100% mastery of the material, as the little details matter a lot in programming. \n",
    "\n",
    "| Grade | Description |\n",
    "|--|--|\n",
    "| 5 out of 5 | Perfect submission with no significant errors. | \n",
    "| 4 out of 5 | Near perfect submission with one or more significant errors. |\n",
    "| 2 out of 5 | Apparent effort but far from perfect. |"
   ]
  },
  {
   "cell_type": "markdown",
   "metadata": {},
   "source": [
    "## Q1. Optimal Stocking Level\n",
    "\n",
    "Write a function named `optBaseStock` with four input arguments:\n",
    "\n",
    "- `levelList`: a list of possible stocking levels to optimize over (which can be a `range` instead of a `list`).\n",
    "- `demandList`: a list of demand scenarios. \n",
    "- `underage`: the unit cost of having too little inventory to meet demand.\n",
    "- `overage`: the unit cost of having too much inventory.\n",
    "\n",
    "For each possible stocking level, the function should compute the average inventory cost, which is defined as the average over all demand scenarios of the total underage cost plus the total overage cost. For example, if the stocking level is 10, the demand scenarios are `[6,12,14]`, the underage cost is 9 and the overage is 5, then\n",
    "\n",
    "- The inventory cost for the scenario `demand=6` is $(10-6)\\times 5=20$, because the stocking level is 4 units too high. (The overage cost of 5/unit is applied when the inventory is too high.)\n",
    "- The inventory cost for the scenario `demand=12` is $(12-10)\\times 9=18$, because the stocking level is 2 units too low. (The underage cost of 9/unit is applied when the inventory is too low.) \n",
    "- The inventory cost for the scenario `demand=14` is $(14-10)\\times 9=36$, because the stocking level is 4 units too low. \n",
    "\n",
    "The average inventory cost for stocking level 10 is $(20+18+36)/3=74/3\\approx 24.67$.  \n",
    "\n",
    "The function should return two objects:\n",
    "\n",
    "- `bestLevel`: the stocking level in `levelList` that achieves the minimum average inventory cost (if there is a tie, return the smallest stocking level that yields the minimum cost).\n",
    "- `avCost`: a dictionary that maps each stocking level to the corresponding average inventory cost.\n",
    "\n",
    "**Sample run:**\n",
    "\n",
    "```python\n",
    "demandList=[10,18,5,20,16,30,15,3,5,10]\n",
    "levelList=range(0,30,5)\n",
    "underage=10\n",
    "overage=3\n",
    "bestLevel,avCost=optBaseStock(levelList,demandList,underage,overage)\n",
    "print('bestLevel:',bestLevel)\n",
    "print('avCost:',avCost)\n",
    "```\n",
    "\n",
    "**Correct output:**\n",
    "\n",
    "```\n",
    "bestLevel 20\n",
    "avCost {0: 132.0, 5: 84.6, 10: 54.1, 15: 36.6, 20: 33.4, 25: 41.9}\n",
    "```"
   ]
  },
  {
   "cell_type": "markdown",
   "metadata": {},
   "source": [
    "### Applying Algorithmic Thinking:\n",
    "\n",
    "**Step 1. Understand** (Write your summary of the task in this cell:)\n",
    "\n",
    "Calculate the level of inventory that will cause the lowest total cost."
   ]
  },
  {
   "cell_type": "markdown",
   "metadata": {},
   "source": [
    "**Step 2. Decompose** (Write your instructions in this Markdown cell)\n",
    "\n",
    "**A.** \n",
    "    \n",
    "   For each element in levelList:\n",
    "   \n",
    "   a. If the inventory is lower than than demand, cost equal to the shortage multiply by ungerage.\n",
    "       \n",
    "   b. If the inventory is exceed the demand, cost equal to the exceed inventory multiply by overage.\n",
    "       \n",
    "   c. If the inventory is equal to demand, there is no cost.\n",
    "       \n",
    "   Assign the cost into list called \"demand_cost\"\n",
    "\n",
    "**B.** \n",
    "    \n",
    "   Find the average cost in \"demand_cost\". This is the total cost of each element in levelList\n",
    "   \n",
    "**C.** \n",
    "   \n",
    "   Insert the element in levelList and total cost into dictionary named \"avCost\" and repeat step A - C for each element in levelList\n",
    "   \n",
    "**D.** \n",
    "   \n",
    "   Find the lowest cost in the \"avCost\" then assign key of that cost to parameter \"bestLevel\""
   ]
  },
  {
   "cell_type": "markdown",
   "metadata": {},
   "source": [
    "**Step 3. Analyze** (Write code fragments in separate code cells to implement the trickiest steps)"
   ]
  },
  {
   "cell_type": "code",
   "execution_count": 1,
   "metadata": {},
   "outputs": [],
   "source": [
    "import numpy as np"
   ]
  },
  {
   "cell_type": "code",
   "execution_count": 2,
   "metadata": {},
   "outputs": [
    {
     "name": "stdout",
     "output_type": "stream",
     "text": [
      "[100, 180, 50, 200, 160, 300, 150, 30, 50, 100]\n",
      "[50, 130, 0, 150, 110, 250, 100, 6, 0, 50]\n",
      "[0, 80, 15, 100, 60, 200, 50, 21, 15, 0]\n",
      "[15, 30, 30, 50, 10, 150, 0, 36, 30, 15]\n",
      "[30, 6, 45, 0, 12, 100, 15, 51, 45, 30]\n",
      "[45, 21, 60, 15, 27, 50, 30, 66, 60, 45]\n"
     ]
    }
   ],
   "source": [
    "# A. \n",
    "demandList=[10,18,5,20,16,30,15,3,5,10]\n",
    "levelList=range(0,30,5)\n",
    "underage=10\n",
    "overage=3\n",
    "\n",
    "for i in levelList:\n",
    "    demand_cost = [abs((i-d)*underage) if i < d else (i-d)*overage for d in demandList]\n",
    "    print(demand_cost)"
   ]
  },
  {
   "cell_type": "code",
   "execution_count": 3,
   "metadata": {},
   "outputs": [
    {
     "name": "stdout",
     "output_type": "stream",
     "text": [
      "132.0\n",
      "84.6\n",
      "54.1\n",
      "36.6\n",
      "33.4\n",
      "41.9\n"
     ]
    }
   ],
   "source": [
    "# B. \n",
    "demandList=[10,18,5,20,16,30,15,3,5,10]\n",
    "levelList=range(0,30,5)\n",
    "underage=10\n",
    "overage=3\n",
    "\n",
    "for i in levelList:\n",
    "    demand_cost = [abs((i-d)*underage) if i < d else (i-d)*overage for d in demandList]\n",
    "    print(np.average(demand_cost))"
   ]
  },
  {
   "cell_type": "code",
   "execution_count": 4,
   "metadata": {},
   "outputs": [
    {
     "data": {
      "text/plain": [
       "{0: 132.0, 5: 84.6, 10: 54.1, 15: 36.6, 20: 33.4, 25: 41.9}"
      ]
     },
     "execution_count": 4,
     "metadata": {},
     "output_type": "execute_result"
    }
   ],
   "source": [
    "# C. \n",
    "demandList = [10,18,5,20,16,30,15,3,5,10]\n",
    "levelList = range(0,30,5)\n",
    "underage = 10\n",
    "overage = 3\n",
    "avCost = {}\n",
    "\n",
    "for i in levelList:\n",
    "    demand_cost = [abs((i-d)*underage) if i < d else (i-d)*overage for d in demandList]\n",
    "    avCost[i] = np.average(demand_cost)\n",
    "\n",
    "avCost"
   ]
  },
  {
   "cell_type": "code",
   "execution_count": 5,
   "metadata": {},
   "outputs": [],
   "source": [
    "# D.\n",
    "demandList = [10,18,5,20,16,30,15,3,5,10]\n",
    "levelList = range(0,30,5)\n",
    "underage = 10\n",
    "overage = 3\n",
    "avCost = {}\n",
    "\n",
    "for i in levelList:\n",
    "    demand_cost = [abs((i-d)*underage) if i < d else (i-d)*overage for d in demandList]\n",
    "    avCost[i] = np.average(demand_cost)\n",
    "\n",
    "bestLevel = list(avCost.keys())[list(avCost.values()).index(min(avCost.values()))]"
   ]
  },
  {
   "cell_type": "markdown",
   "metadata": {},
   "source": [
    "**Step 4. Synthesize** (Combine your code fragments from Step 3, but do so in an incremental fashion and print intermediate results)"
   ]
  },
  {
   "cell_type": "code",
   "execution_count": 6,
   "metadata": {},
   "outputs": [],
   "source": [
    "# Version for debugging: with intermediate printing and no function encapsulation\n",
    "demandList = [10,18,5,20,16,30,15,3,5,10]\n",
    "levelList = range(0,30,5)\n",
    "underage = 10\n",
    "overage = 3\n",
    "avCost = {}\n",
    "\n",
    "for i in levelList:\n",
    "    demand_cost = [abs((i-d)*underage) if i < d else (i-d)*overage for d in demandList]\n",
    "    avCost[i] = np.average(demand_cost)\n",
    "\n",
    "bestLevel = list(avCost.keys())[list(avCost.values()).index(min(avCost.values()))]"
   ]
  },
  {
   "cell_type": "code",
   "execution_count": 7,
   "metadata": {},
   "outputs": [],
   "source": [
    "# Final code: removing intermediate printing and encapuslating in a function\n",
    "def optBaseStock(levelList,demandList,underage,overage):\n",
    "    \n",
    "    avCost = {}\n",
    "\n",
    "    for i in levelList:\n",
    "        demand_cost = [abs((i-d)*underage) if i < d else (i-d)*overage for d in demandList]\n",
    "        avCost[i] = np.average(demand_cost)\n",
    "\n",
    "    bestLevel = list(avCost.keys())[list(avCost.values()).index(min(avCost.values()))]\n",
    "    \n",
    "    return bestLevel, avCost"
   ]
  },
  {
   "cell_type": "code",
   "execution_count": 8,
   "metadata": {},
   "outputs": [
    {
     "name": "stdout",
     "output_type": "stream",
     "text": [
      "bestLevel: 20\n",
      "avCost: {0: 132.0, 5: 84.6, 10: 54.1, 15: 36.6, 20: 33.4, 25: 41.9}\n"
     ]
    }
   ],
   "source": [
    "# Sample run\n",
    "demandList=[10,18,5,20,16,30,15,3,5,10]\n",
    "levelList=range(0,30,5)\n",
    "underage=10\n",
    "overage=3\n",
    "bestLevel,avCost = optBaseStock(levelList,demandList,underage,overage)\n",
    "print('bestLevel:',bestLevel)\n",
    "print('avCost:',avCost)"
   ]
  },
  {
   "cell_type": "markdown",
   "metadata": {},
   "source": [
    "The following code illustrates how the results might be graphed as in Exercise 4.3.\n",
    "\n",
    "**Remember that due to a bug in Jupyter notebook, the first graph might need to be run twice in order to show.**"
   ]
  },
  {
   "cell_type": "code",
   "execution_count": 9,
   "metadata": {},
   "outputs": [
    {
     "data": {
      "image/png": "[encoded data removed]",
      "text/plain": [
       "<Figure size 432x288 with 1 Axes>"
      ]
     },
     "metadata": {
      "needs_background": "light"
     },
     "output_type": "display_data"
    }
   ],
   "source": [
    "demandList=[10,18,5,20,16,30,15,3,5,10]\n",
    "levelList=range(0,30,5)\n",
    "underage=10\n",
    "overage=3\n",
    "bestLevel,cost=optBaseStock(levelList,demandList,underage,overage)\n",
    "\n",
    "import matplotlib.pyplot as plt\n",
    "levelList=sorted(levelList)\n",
    "costList=[cost[level] for level in levelList]\n",
    "plt.plot(levelList,costList)\n",
    "plt.plot([bestLevel],[cost[bestLevel]],'ro')\n",
    "plt.title(f'Optimal stocking level is {bestLevel} with cost {round(cost[bestLevel],2)}')\n",
    "plt.xlabel('Stocking level')\n",
    "plt.ylabel('Average inventory cost')\n",
    "plt.ylim(bottom=0)\n",
    "plt.show()"
   ]
  },
  {
   "cell_type": "markdown",
   "metadata": {},
   "source": [
    "## Q2. Simulating Availabilities of Hospital Beds\n",
    "\n",
    "One challenge in health care operations is to forecast the number of hospital beds that are available at a given time, since patients admitted in the past may stay for several days and the number of beds are limited. If no more beds are available, then incoming patients may need to be turned away.\n",
    "\n",
    "Write a function called `admissionSimulation` with three input arguments:\n",
    "\n",
    "- `demandList`: a list of positive integers representing the number of incoming patients who need a hospital bed in each day. (The first number corresponds to day 0, the second number to day 1, and so on.)\n",
    "- `beds`: a positive integer representing the total number of hospital beds available.\n",
    "- `stay`: a positive integer representing the number of days each admitted patient will stay. If `stay=1`, then every admitted patient leaves before any incoming patients arrive the next day. If `stay=2`, then each patient admitted on day $t$ will occupy a bed also for day $t+1$, and leave before incoming patients arrive on day $t+2$.\n",
    "\n",
    "The function should return a list `admissionRecord`, corresponding to the number of incoming patients admitted on each day. \n",
    "\n",
    "**Sample run 1:**\n",
    "\n",
    "```python\n",
    "demandList=[1,2,1,0,2,3]\n",
    "beds=2\n",
    "stay=2\n",
    "admissionRecord=admissionSimulation(demandList,beds,stay)\n",
    "print(f'Day\\tDemand\\tAdmitted')\n",
    "for i in range(len(demandList)):\n",
    "    print(f'{i}\\t{demandList[i]}\\t{admissionRecord[i]}')\n",
    "```\n",
    "\n",
    "**Correct output:**\n",
    "\n",
    "```\n",
    "Day\t  Demand   Admitted\n",
    "0\t    1\t    1\n",
    "1\t    2\t    1\n",
    "2\t    1\t    1\n",
    "3\t    0\t    0\n",
    "4\t    2\t    2\n",
    "5\t    3\t    0\n",
    "```\n",
    "\n",
    "**Sample run 2:**\n",
    "\n",
    "```python\n",
    "demandList=[5,8,6,8,4,4,8,6,1]\n",
    "beds=7\n",
    "stay=3\n",
    "admissionRecord=admissionSimulation(demandList,beds,stay)\n",
    "print(f'Day\\tDemand\\tAdmitted')\n",
    "for i in range(len(demandList)):\n",
    "    print(f'{i}\\t{demandList[i]}\\t{admissionRecord[i]}')\n",
    "```\n",
    "\n",
    "**Correct output:**\n",
    "\n",
    "```\n",
    "Day\t  Demand   Admitted\n",
    "0\t    5\t    5\n",
    "1\t    8\t    2\n",
    "2\t    6\t    0\n",
    "3\t    8\t    5\n",
    "4\t    4\t    2\n",
    "5\t    4\t    0\n",
    "6\t    8\t    5\n",
    "7\t    6\t    2\n",
    "8\t    1\t    0\n",
    "```\n",
    "\n",
    "**Sample run 3:**\n",
    "\n",
    "```python\n",
    "# Sample run 3\n",
    "demandList=[5,8,6,4,4,4,8,1,3]\n",
    "beds=7\n",
    "stay=3\n",
    "admissionRecord=admissionSimulation(demandList,beds,stay)\n",
    "print(f'Day\\tDemand\\tAdmitted')\n",
    "for i in range(len(demandList)):\n",
    "    print(f'{i}\\t{demandList[i]}\\t{admissionRecord[i]}')\n",
    "```\n",
    "\n",
    "**Correct output:**\n",
    "\n",
    "```\n",
    "Day      Demand   Admitted\n",
    "0\t    5    \t5\n",
    "1\t    8\t    2\n",
    "2\t    6\t    0\n",
    "3\t    4\t    4\n",
    "4\t    4\t    3\n",
    "5\t    4\t    0\n",
    "6\t    8\t    4\n",
    "7\t    1\t    1\n",
    "8\t    3\t    2\n",
    "```\n",
    "\n",
    "**Hint:** In Step 2, you want to create a table. The above tables are insufficient to carry through the logic, as you also need to keep track of the number of discharges at the beginning of each day, as well as the number of available beds before new patients arrive."
   ]
  },
  {
   "cell_type": "markdown",
   "metadata": {},
   "source": [
    "### Applying Algorithmic Thinking:\n",
    "\n",
    "**Step 1. Understand** (Write your summary of the task in this cell:)\n",
    "\n",
    "Calculate the number of admitted patient for each day"
   ]
  },
  {
   "cell_type": "markdown",
   "metadata": {},
   "source": [
    "**Step 2. Decompose** (Write your instructions in this Markdown cell)\n",
    "\n",
    "\n",
    "\n",
    "**A.** \n",
    "\n",
    "At day 0, set avalilable_bed = beds, admitted = the lowest number between demand and beds \n",
    "\n",
    "**B.** \n",
    "\n",
    "Next day, set avalilable_bed = avalilable_bed in previous day - admitted patient in the previous day + admitted patient in day (t - stay), admitted = the lowest number between demand and avalilable_bed\n",
    "\n",
    "**C.** \n",
    "\n",
    "Append the admitted in each day into the list. Repeat step a and b for each day in demand list"
   ]
  },
  {
   "cell_type": "markdown",
   "metadata": {},
   "source": [
    "**Step 3. Analyze** (Write code fragments in separate code cells to implement the trickiest steps)"
   ]
  },
  {
   "cell_type": "code",
   "execution_count": 10,
   "metadata": {},
   "outputs": [
    {
     "data": {
      "text/plain": [
       "[1, 1, 1, 1, 1, 1]"
      ]
     },
     "execution_count": 10,
     "metadata": {},
     "output_type": "execute_result"
    }
   ],
   "source": [
    "# A. \n",
    "demandList = [1,2,1,0,2,3]\n",
    "beds = 2\n",
    "stay = 2\n",
    "admittedList = []\n",
    "\n",
    "for i in range(len(demandList)):\n",
    "    if i == 0:\n",
    "        available_bed = beds\n",
    "        admitted = min(available_bed,demandList[i])\n",
    "    admittedList.append(admitted)\n",
    "\n",
    "admittedList"
   ]
  },
  {
   "cell_type": "code",
   "execution_count": 11,
   "metadata": {},
   "outputs": [
    {
     "data": {
      "text/plain": [
       "[1, 1, 1, 0, 2, 0]"
      ]
     },
     "execution_count": 11,
     "metadata": {},
     "output_type": "execute_result"
    }
   ],
   "source": [
    "# B.\n",
    "demandList = [1,2,1,0,2,3]\n",
    "beds = 2\n",
    "stay = 2\n",
    "admittedList = []\n",
    "\n",
    "for i in range(len(demandList)):\n",
    "    if i == 0:\n",
    "        available_bed = beds\n",
    "        admitted = min(available_bed,demandList[i])\n",
    "    elif i < stay:\n",
    "        available_bed = max(available_bed - admittedList[-1],0)\n",
    "        admitted = min(available_bed,demandList[i])\n",
    "    else:\n",
    "        available_bed = max(available_bed - admittedList[-1] + admittedList[stay*-1],0)\n",
    "        admitted = min(available_bed,demandList[i])\n",
    "\n",
    "    admittedList.append(admitted)\n",
    "\n",
    "admittedList"
   ]
  },
  {
   "cell_type": "markdown",
   "metadata": {},
   "source": [
    "**Step 4. Synthesize** (Combine your code fragments from Step 3, but do so in an incremental fashion and print intermediate results)"
   ]
  },
  {
   "cell_type": "code",
   "execution_count": 12,
   "metadata": {},
   "outputs": [
    {
     "name": "stdout",
     "output_type": "stream",
     "text": [
      "7\n",
      "[5]\n",
      "2\n",
      "[5, 2]\n",
      "0\n",
      "[5, 2, 0]\n",
      "5\n",
      "[5, 2, 0, 5]\n",
      "2\n",
      "[5, 2, 0, 5, 2]\n",
      "0\n",
      "[5, 2, 0, 5, 2, 0]\n",
      "5\n",
      "[5, 2, 0, 5, 2, 0, 5]\n",
      "2\n",
      "[5, 2, 0, 5, 2, 0, 5, 2]\n",
      "0\n",
      "[5, 2, 0, 5, 2, 0, 5, 2, 0]\n"
     ]
    }
   ],
   "source": [
    "# Version for debugging: with intermediate printing and no function encapsulation\n",
    "demandList = [5,8,6,8,4,4,8,6,1]\n",
    "beds = 7\n",
    "stay = 3\n",
    "admittedList = []\n",
    "\n",
    "for i in range(len(demandList)):\n",
    "    if i == 0:\n",
    "        available_bed = beds\n",
    "        admitted = min(available_bed,demandList[i])\n",
    "    elif i < stay:\n",
    "        available_bed = max(available_bed - admittedList[-1],0)\n",
    "        admitted = min(available_bed,demandList[i])\n",
    "    else:\n",
    "        available_bed = max(available_bed - admittedList[-1] + admittedList[stay*-1],0)\n",
    "        admitted = min(available_bed,demandList[i])\n",
    "    print(available_bed)\n",
    "    admittedList.append(admitted)\n",
    "    print(admittedList)"
   ]
  },
  {
   "cell_type": "code",
   "execution_count": 13,
   "metadata": {},
   "outputs": [],
   "source": [
    "# Final code: removing intermediate printing and encapuslating in a function\n",
    "def admissionSimulation(demandList,beds,stay):\n",
    "\n",
    "    admittedList = []\n",
    "\n",
    "    for i in range(len(demandList)):\n",
    "        if i == 0:\n",
    "            available_bed = beds\n",
    "            admitted = min(available_bed,demandList[i])\n",
    "        elif i < stay:\n",
    "            available_bed = max(available_bed - admittedList[-1],0)\n",
    "            admitted = min(available_bed,demandList[i])\n",
    "        else:\n",
    "            available_bed = max(available_bed - admittedList[-1] + admittedList[stay*-1],0)\n",
    "            admitted = min(available_bed,demandList[i])\n",
    "        admittedList.append(admitted)\n",
    "    return admittedList"
   ]
  },
  {
   "cell_type": "code",
   "execution_count": 14,
   "metadata": {},
   "outputs": [
    {
     "name": "stdout",
     "output_type": "stream",
     "text": [
      "Day\tDemand\tAdmitted\n",
      "0\t1\t1\n",
      "1\t2\t1\n",
      "2\t1\t1\n",
      "3\t0\t0\n",
      "4\t2\t2\n",
      "5\t3\t0\n"
     ]
    }
   ],
   "source": [
    "# Sample run 1\n",
    "demandList=[1,2,1,0,2,3]\n",
    "beds=2\n",
    "stay=2\n",
    "admissionRecord=admissionSimulation(demandList,beds,stay)\n",
    "\n",
    "admissionRecord\n",
    "print(f'Day\\tDemand\\tAdmitted')\n",
    "for i in range(len(demandList)):\n",
    "    print(f'{i}\\t{demandList[i]}\\t{admissionRecord[i]}')"
   ]
  },
  {
   "cell_type": "code",
   "execution_count": 15,
   "metadata": {},
   "outputs": [
    {
     "name": "stdout",
     "output_type": "stream",
     "text": [
      "Day\tDemand\tAdmitted\n",
      "0\t5\t5\n",
      "1\t8\t2\n",
      "2\t6\t0\n",
      "3\t8\t5\n",
      "4\t4\t2\n",
      "5\t4\t0\n",
      "6\t8\t5\n",
      "7\t6\t2\n",
      "8\t1\t0\n"
     ]
    }
   ],
   "source": [
    "# Sample run 2\n",
    "demandList=[5,8,6,8,4,4,8,6,1]\n",
    "beds=7\n",
    "stay=3\n",
    "admissionRecord=admissionSimulation(demandList,beds,stay)\n",
    "print(f'Day\\tDemand\\tAdmitted')\n",
    "for i in range(len(demandList)):\n",
    "    print(f'{i}\\t{demandList[i]}\\t{admissionRecord[i]}')"
   ]
  },
  {
   "cell_type": "code",
   "execution_count": 16,
   "metadata": {},
   "outputs": [
    {
     "name": "stdout",
     "output_type": "stream",
     "text": [
      "Day\tDemand\tAdmitted\n",
      "0\t5\t5\n",
      "1\t8\t2\n",
      "2\t6\t0\n",
      "3\t4\t4\n",
      "4\t4\t3\n",
      "5\t4\t0\n",
      "6\t8\t4\n",
      "7\t1\t1\n",
      "8\t3\t2\n"
     ]
    }
   ],
   "source": [
    "# Sample run 3\n",
    "demandList=[5,8,6,4,4,4,8,1,3]\n",
    "beds=7\n",
    "stay=3\n",
    "admissionRecord=admissionSimulation(demandList,beds,stay)\n",
    "print(f'Day\\tDemand\\tAdmitted')\n",
    "for i in range(len(demandList)):\n",
    "    print(f'{i}\\t{demandList[i]}\\t{admissionRecord[i]}')"
   ]
  }
 ],
 "metadata": {
  "kernelspec": {
   "display_name": "Python 3",
   "language": "python",
   "name": "python3"
  },
  "language_info": {
   "codemirror_mode": {
    "name": "ipython",
    "version": 3
   },
   "file_extension": ".py",
   "mimetype": "text/x-python",
   "name": "python",
   "nbconvert_exporter": "python",
   "pygments_lexer": "ipython3",
   "version": "3.8.8"
  }
 },
 "nbformat": 4,
 "nbformat_minor": 2
}
