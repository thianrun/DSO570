{
 "cells": [
  {
   "cell_type": "markdown",
   "id": "8ed74273",
   "metadata": {},
   "source": [
    "## Problem B: Food Production Revisited\n",
    "\n",
    "This question is a modification of the sample problem from Session 9, and it incoporates a limit on how long oil can be stored. \n",
    "\n",
    "A food factory uses a certain amount of canola oil every month as a raw ingredient. The price of canola oil fluctuates from month to month, as well as the amount of oil that is used each month for production. The prices and oil required for the next six months are as follows\n",
    "\n",
    "|Month | 1 | 2 | 3 | 4 | 5 | 6 |\n",
    "|--|--|--|--|--|--|--|\n",
    "| Price (\\$) per ton | 150 | 160 | 180 | 170 | 180 | 160 |\n",
    "| Tons of oil used | 2000 | 2500 | 3000 | 3000 | 2500 | 2000 |\n",
    "\n",
    "The factory's supplier for canola oil delivers it on the first day of every month, and charges the prices above. The factory can decide how much oil to buy each month from the supplier.  At the end of each month, the factory can also store unused oil for future use, but the inventory of oil (the total amount stored) cannot exceed **8000** tons at any given time. (The current inventory of oil before the shipment in Month 1 is zero.) **Moreover, oil be stored for at most 2 months. For example, oil bought in Month 1 can only be used in Months 1, 2 or 3, and must be thrown away at the end of Month 3; in other words, oil bought in Month 1 cannot be used in Month 4, 5, ... An analogous statement holds for oil bought in other months.** \n",
    "\n",
    "Formulate a linear optimization problem to decide how much canola oil to buy for each of the six months in order to minimize the total purchase cost over these six months. "
   ]
  },
  {
   "cell_type": "markdown",
   "id": "a7f960aa",
   "metadata": {},
   "source": [
    "**Decision Variables:** \n",
    "\n",
    "\n",
    "\n",
    "\n",
    "\n",
    "**Objective:**\n",
    "\n",
    "\n",
    "\n",
    "\n",
    "\n",
    "\n",
    "**Constraints:**\n",
    "\n",
    "\n",
    "\n",
    "\n",
    "\n"
   ]
  },
  {
   "cell_type": "code",
   "execution_count": 1,
   "id": "c2ebae4b",
   "metadata": {},
   "outputs": [],
   "source": [
    "import pandas as pd\n",
    "from gurobi import Model, GRB"
   ]
  },
  {
   "cell_type": "code",
   "execution_count": 7,
   "id": "41648e26",
   "metadata": {},
   "outputs": [],
   "source": [
    "price = [150,160,180,170,180,160]\n",
    "demand = [2000,2500,3000,3000,2500,2000]"
   ]
  },
  {
   "cell_type": "code",
   "execution_count": 22,
   "id": "40d68591",
   "metadata": {},
   "outputs": [
    {
     "name": "stdout",
     "output_type": "stream",
     "text": [
      "1460000.0\n",
      "x[1]: 2000.0\n",
      "y[1]: 0.0\n",
      "x[2]: 2500.0\n",
      "y[2]: 2000.0\n",
      "x[3]: 1000.0\n",
      "y[3]: 2500.0\n",
      "x[4]: 2000.0\n",
      "y[4]: 2500.0\n",
      "x[5]: 0.0\n",
      "y[5]: 500.0\n",
      "x[6]: 1500.0\n",
      "y[6]: 1500.0\n"
     ]
    }
   ],
   "source": [
    "mod = Model()\n",
    "x = mod.addVars(range(1,7),name = 'x')\n",
    "y = mod.addVars(range(1,7),name = 'y')\n",
    "mod.setObjective(sum(price[i-1]*x[i] for i in range(1,7)),sense = GRB.MINIMIZE)\n",
    "mod.addConstrs((y[i] == x[i] - demand[i-1] if i == 1 else y[i] == x[i] + y[i-1] - demand[i-1] \n",
    "                if i == 2 else y[i] == x[i] + x[i-1] + x[i-2] - demand[i-1] for i in range(1,7)), name = 'balance')\n",
    "mod.addConstrs((x[i] >= demand[i-1] if i == 1 else x[i] + y[i-1] >= demand[i-1] \n",
    "                for i in range(1,7)), name = 'demand')\n",
    "mod.addConstrs((y[i] <= 8000 \n",
    "                for i in range(1,7)), name = 'storage')\n",
    "\n",
    "# mod.update()\n",
    "# mod.write('ProblemB.lp')\n",
    "# %cat 'ProblemB.lp'\n",
    "\n",
    "mod.setParam('OutputFlag',False)\n",
    "mod.optimize()\n",
    "\n",
    "print(mod.ObjVal)\n",
    "for i in range(1,7):\n",
    "    print(f'x[{i}]: {x[i].x}')\n",
    "    print(f'y[{i}]: {y[i].x}')"
   ]
  },
  {
   "cell_type": "code",
   "execution_count": 25,
   "id": "3f55cfd0",
   "metadata": {},
   "outputs": [
    {
     "name": "stdout",
     "output_type": "stream",
     "text": [
      "2305000.0\n",
      "x[1]: 10000.0\n",
      "y[1]: 8000.0\n",
      "x[2]: 2500.0\n",
      "y[2]: 8000.0\n",
      "x[3]: 0.0\n",
      "y[3]: 5000.0\n",
      "x[4]: 500.0\n",
      "y[4]: 2500.0\n",
      "x[5]: 0.0\n",
      "y[5]: 0.0\n",
      "x[6]: 2000.0\n",
      "y[6]: 0.0\n"
     ]
    }
   ],
   "source": [
    "mod = Model()\n",
    "x = mod.addVars(range(1,7),name = 'x')\n",
    "y = mod.addVars(range(1,7),name = 'y')\n",
    "z = mod.addVars(range(1,7),name = 'z')\n",
    "mod.setObjective(sum(price[i-1]*x[i] for i in range(1,7)),sense = GRB.MINIMIZE)\n",
    "mod.addConstrs((x[i]-y[i]-z[i] == demand[i-1] if i == 1 else x[i]-y[i]-z[i]+y[i-1] == demand[i-1] \n",
    "                if i == 2 else x[i]-y[i]-z[i]+y[i-1]+z[i-2] == demand[i-1] for i in range(1,7)), name = 'balance')\n",
    "# mod.addConstrs((x[i] >= demand[i-1] if i == 1 else x[i] + y[i-1] >= demand[i-1] \n",
    "#                 for i in range(1,7)), name = 'demand')\n",
    "mod.addConstrs((y[i] + z[i] <= 8000 if i == 1 else y[i] + z[i] + z[i-1] <= 8000\n",
    "                for i in range(1,7)), name = 'storage')\n",
    "\n",
    "# mod.update()\n",
    "# mod.write('ProblemB.lp')\n",
    "# %cat 'ProblemB.lp'\n",
    "\n",
    "mod.setParam('OutputFlag',False)\n",
    "mod.optimize()\n",
    "\n",
    "print(mod.ObjVal)\n",
    "for i in range(1,7):\n",
    "    print(f'x[{i}]: {x[i].x}')\n",
    "    print(f'y[{i}]: {y[i].x}')"
   ]
  },
  {
   "cell_type": "code",
   "execution_count": null,
   "id": "61584e8d",
   "metadata": {},
   "outputs": [],
   "source": []
  }
 ],
 "metadata": {
  "kernelspec": {
   "display_name": "Python 3",
   "language": "python",
   "name": "python3"
  },
  "language_info": {
   "codemirror_mode": {
    "name": "ipython",
    "version": 3
   },
   "file_extension": ".py",
   "mimetype": "text/x-python",
   "name": "python",
   "nbconvert_exporter": "python",
   "pygments_lexer": "ipython3",
   "version": "3.8.8"
  }
 },
 "nbformat": 4,
 "nbformat_minor": 5
}
