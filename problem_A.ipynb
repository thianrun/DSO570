{
 "cells": [
  {
   "cell_type": "markdown",
   "id": "4193877b",
   "metadata": {},
   "source": [
    "## Problem A: Nurse Scheduling Revisited\n",
    "\n",
    "This question is a modification of Q1 of Problem Set 7 while incorporating various shift lengths. \n",
    "\n",
    "Hospital administrators must schedule nurses so that the hospital’s patients are provided with adequate care. At the same time, in the face of tighter competition in the health care industry, they must pay careful attention to keeping costs down. \n",
    "\n",
    "From historical records, administrators estimated the minimum number of nurses to have on hand for the various times of the day, as shown in the following table. \n",
    "\n",
    "| Shift | Time | Minimum number of nurses needed |\n",
    "|--|--|--|\n",
    "| 1 | Midnight-4am | 5 |\n",
    "| 2 | 4am-8am | 12 |\n",
    "| 3 | 8am-noon | 14 |\n",
    "| 4 | noon-4pm | 8 |\n",
    "| 5 | 4pm-8pm | 14 |\n",
    "| 6 | 8pm-Midnight | 10 |\n",
    "\n",
    "**In a given day, a nurse can either work for one shift, or for two consecutive shifts. The hourly pay for a four hour shift is 60 dollars/hour, while the hourly pay for an eight hour shift (two consecutive shifts) is 50 dollars/hour.** As a result, in each shift, there are two types of nurses: those working for two shifts that started in the previous shift (and are now working their second shift), and those that just started in this shift (some of whom may be working in the next shift as well). Note that a nurse working two shifts who starts at the 8pm-Midnight shift would finish work after the next day's Midnight-4am shift.\n",
    "\n",
    "Formulate a linear optimization problem to **minimize the total cost per day for hiring nurses** subject to being able to fulfill all business constraints. (This is a concrete formulation problem, so you can use the above numbers and you do not need to define data variables.)"
   ]
  },
  {
   "cell_type": "markdown",
   "id": "f81ec62d",
   "metadata": {},
   "source": [
    "**Decision variable:** \n",
    "\n",
    "\n",
    "\n",
    "\n",
    "**Objective**\n",
    "\n",
    "\n",
    "\n",
    "\n",
    "**Constraints:**\n",
    "\n",
    "\n",
    "\n",
    "\n"
   ]
  },
  {
   "cell_type": "code",
   "execution_count": 2,
   "id": "4ff263eb",
   "metadata": {},
   "outputs": [],
   "source": [
    "import pandas as pd\n",
    "from gurobi import Model\n",
    "from gurobi import GRB"
   ]
  },
  {
   "cell_type": "code",
   "execution_count": 9,
   "id": "3ebc5341",
   "metadata": {},
   "outputs": [],
   "source": [
    "min = [5,12,14,8,14,10]"
   ]
  },
  {
   "cell_type": "code",
   "execution_count": 16,
   "id": "899b2e72",
   "metadata": {},
   "outputs": [
    {
     "name": "stdout",
     "output_type": "stream",
     "text": [
      "Minimum cost:  12720.0\n",
      "Shift  1 :   One-shift nurse =  -0.0  Two-shift nurse =  5.0\n",
      "Shift  2 :   One-shift nurse =  -0.0  Two-shift nurse =  7.0\n",
      "Shift  3 :   One-shift nurse =  -0.0  Two-shift nurse =  7.0\n",
      "Shift  4 :   One-shift nurse =  -0.0  Two-shift nurse =  1.0\n",
      "Shift  5 :   One-shift nurse =  3.0  Two-shift nurse =  10.0\n",
      "Shift  6 :   One-shift nurse =  -0.0  Two-shift nurse =  -0.0\n"
     ]
    }
   ],
   "source": [
    "mod = Model()\n",
    "x = mod.addVars(range(1,7),name = 'x',vtype = GRB.INTEGER)\n",
    "y = mod.addVars(range(1,7),name = 'y',vtype = GRB.INTEGER)\n",
    "mod.setObjective(sum(240*x[i] + 400*y[i] for i in range(1,7)), sense = GRB.MINIMIZE)\n",
    "mod.addConstrs((x[i]+y[i]+y[i-1] >= min[i-1] if i > 1 else x[i]+y[i]+y[len(min)] >= min[i-1] for i in range(1,7)), name = 'demand')\n",
    "\n",
    "# mod.update()\n",
    "# mod.write('ProblemA.lp')\n",
    "# %cat 'ProblemA.lp'\n",
    "\n",
    "mod.setParam('OutputFlag', False)\n",
    "mod.optimize()\n",
    "print('Minimum cost: ',mod.ObjVal)\n",
    "for i in range(1,7):\n",
    "    print('Shift ',i,': ',' One-shift nurse = ',x[i].x,' Two-shift nurse = ',y[i].x)\n"
   ]
  },
  {
   "cell_type": "code",
   "execution_count": null,
   "id": "85755fa6",
   "metadata": {},
   "outputs": [],
   "source": []
  }
 ],
 "metadata": {
  "kernelspec": {
   "display_name": "Python 3",
   "language": "python",
   "name": "python3"
  },
  "language_info": {
   "codemirror_mode": {
    "name": "ipython",
    "version": 3
   },
   "file_extension": ".py",
   "mimetype": "text/x-python",
   "name": "python",
   "nbconvert_exporter": "python",
   "pygments_lexer": "ipython3",
   "version": "3.8.8"
  }
 },
 "nbformat": 4,
 "nbformat_minor": 5
}
