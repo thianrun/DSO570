{
 "cells": [
  {
   "cell_type": "markdown",
   "metadata": {},
   "source": [
    "# Problem Set 7\n",
    "\n",
    "### Learning Objective:\n",
    "\n",
    "- Formulate linear optimization models to inform a business decision.\n",
    "\n",
    "### Overview:\n",
    "\n",
    "This problem set assesses your ability to analyze a given business descision by creating a concrete formulation of a linear optimization model, as discussed in the lectures for Weeks 8-9. If you know some LaTeX, you can typeset in notebook cells. Otherwise you can upload a word or pdf file. It is not desirable, but you may handwrite and scan.\n",
    "\n",
    "### Grading\n",
    "\n",
    "There are three possible scores you can get from submitting this assignment on time (submitting a blank file or one without any apparent effort does not count). Note that the rubric is designed to incentivize you to go for 100% mastery of the material, as the little details matter a lot in business analytics. \n",
    "\n",
    "| Grade | Description |\n",
    "|--|--|\n",
    "| 5 out of 5 | Perfect submission with no significant errors. | \n",
    "| 4 out of 5 | Near perfect submission with one or more significant errors. |\n",
    "| 2 out of 5 | Apparent effort but far from perfect. |"
   ]
  },
  {
   "cell_type": "markdown",
   "metadata": {},
   "source": [
    "## Q1. Nurse Scheduling\n",
    "\n",
    "Hospital administrators must schedule nurses so that the hospital’s patients are provided with adequate care. At the same time, in the face of tighter competition in the health care industry, they must pay careful attention to keeping costs down. \n",
    "\n",
    "From historical records, administrators estimated the minimum number of nurses to have on hand for the various times of the day, as shown in the following table. \n",
    "\n",
    "| Shift | Time | Minimum number of nurses needed |\n",
    "|--|--|--|\n",
    "| 1 | Midnight-4am | 5 |\n",
    "| 2 | 4am-8am | 12 |\n",
    "| 3 | 8am-noon | 14 |\n",
    "| 4 | noon-4pm | 8 |\n",
    "| 5 | 4pm-8pm | 14 |\n",
    "| 6 | 8pm-Midnight | 10 |\n",
    "\n",
    "Nurses work 8 hours a day in two consecutive shifts. As a result, in each shift, there are two types of nurses: those that started in the previous shift (and are now working their second shift), and those that just started in this shift (and will be working in the next shift as well). Note that if a nurse who starts at the 8pm-Midnight shift would finish work on the next day's Midnight-4am shift.\n",
    "\n",
    "Formulate a linear optimization problem to minimize the total number of nurses subject to being able to fulfill all business constraints. In other words, complete Steps 1 and 2 (English description and concrete formulation) for the problem."
   ]
  },
  {
   "cell_type": "markdown",
   "metadata": {},
   "source": [
    "## Q2. Off-Campus Security\n",
    "\n",
    "USC would like to protect every intersection around USC by stationing security staff, so that every intersection either has a staff stationed, or is connected directly to another intersection that has a staff stationed. For example, in the following sample map with 10 intersections, a staff stationed at intersection A is able to protect the intersections A, B and E; a staff stationed at intersection E is able to protect intersections A, E, F and I.\n",
    "\n",
    "![Sample Map for Q2](PS7-Map.png)\n",
    "\n",
    "For the above map, formulate a linear optimization problem to minimize the total number of staff needed, subject to protecting all 10 intersections, as well as satisfying the following constraints:\n",
    "\n",
    "- Staff cannot be stationed at both intersections A and B.\n",
    "- At least three of E, F, G and H must have a staff directly stationed. \n",
    "- No one can be stationed at intersection J.\n",
    "- If someone is stationed at D, then at least one of H or J must be unstationed. (Even though the previous constraint makes this one automatically satisfied, still formulate this constraint as if the previous one didn't exist.)\n",
    "\n",
    "**a)** What is the decision (in words)?\n",
    "\n",
    "\n",
    "\n",
    "**b)** What is the objective (in words)?\n",
    "\n",
    "\n",
    "\n",
    "**c)** Other than the constraints listed in bullets above, describe another constraint implied by the problem text (in words). Please list just one of many of these.\n",
    "\n",
    "\n",
    "\n",
    "**d)** Write a concrete formulation using the correct mathematical notation, specifying the decision variables, the objective function and all constraints. \n",
    "\n"
   ]
  },
  {
   "cell_type": "markdown",
   "metadata": {},
   "source": [
    "## Q3. Course Selection \n",
    "\n",
    "Aithne is currently enrolled in a Masters program at USC and is planning her courses for the next 2 semesters. There are five elective courses she would like to take, which we refer to as Courses A, B, C, D, and E. Based on her conversations with past students and prospective employers, she has estimated an \"importance score\" for each course, as well as the \"workload\" in terms of hours of work needed per week. Moreover, the schedules for the next two semesters have already been published, and this gives her information about scheduling conflicts as well as how much time she can afford to spend on these electives after accounting for her mandatory courses and other responsibilities. **Each course is a single semester long and can be taken only once, but the same course may be offered in both semesters, so she can choose when to take each course as well as whether to take it.** These information are summarized in the three tables below.\n",
    "\n",
    "| Course | **A** | **B** | **C** | **D** | **E** |\n",
    "|--|--|--|--|--|--|\n",
    "|Importance Score |5 | 3 | 2 |4 |5|\n",
    "| Workload (hours/week) | 15 | 10 | 10 | 5| 10\n",
    "\n",
    "| Schedule | Semester 1 | Semester 2 |\n",
    "|--|--|--|\n",
    "|**A**| Tue/Thu 11-12:20 |  Mon/Wed 12:30-13:50 |\n",
    "|**B**| Tue 9-12:00 | Tue 9:00-12:00 |\n",
    "|**C**| Mon/Wed 12:30-13:50 | Not offered |\n",
    "|**D**| Mon 12:00-15:00 | Tue/Thu 11:00-12:20 |\n",
    "|**E**| Mon/Wed 14:00-15:50 | Tue/Thu 11:00-12:20 | \n",
    "|Total time she can afford to spend | 20 hours/week | 15 hours/week |\n",
    "\n",
    "Furthermore, **Course A is a pre-requisite of Course D**, which means that if Aithne wishes to take Course D, she must take it in Semester 2 after taking Course A in Semester 1. Moreover, **Course A is a co-requisite of Course E**, which means that if she takes Course E in a semester, she must either be concurrently taking Course A or has already completed the course in a previous semester. (However, Course A can be taken by itself, without concurrently taking Course E.)\n",
    "\n",
    "Aithne would like to plan a schedule that maximizes the total importance score of courses she takes. For example, if she takes only courses A and B in the two semesters, the total importance score would be $5+3=8$. **Write a concrete formulation of a LP/MIP to help Aithne plan her course selection for the two semesters. The objective and all constraints must be linear.** For this question, you don't have to answer Step 1."
   ]
  }
 ],
 "metadata": {
  "kernelspec": {
   "display_name": "Python 3",
   "language": "python",
   "name": "python3"
  },
  "language_info": {
   "codemirror_mode": {
    "name": "ipython",
    "version": 3
   },
   "file_extension": ".py",
   "mimetype": "text/x-python",
   "name": "python",
   "nbconvert_exporter": "python",
   "pygments_lexer": "ipython3",
   "version": "3.9.7"
  }
 },
 "nbformat": 4,
 "nbformat_minor": 2
}
