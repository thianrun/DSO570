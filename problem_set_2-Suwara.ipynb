{
 "cells": [
  {
   "cell_type": "markdown",
   "metadata": {},
   "source": [
    "# Problem Set 2\n",
    "\n",
    "### Learning Objective:\n",
    "\n",
    "- Create Python code to automate a given task.\n",
    "\n",
    "### Overview:\n",
    "\n",
    "This problem set assesses your mastery of course content in Week 2, which includes lists, dictionaries, and for loops.\n",
    "\n",
    "### Recommended Steps for Each Problem: \n",
    "\n",
    "1. Read the prompt and summarize the task in your own words, using as few words as possible for ease of comprehension.\n",
    "\n",
    "2. Pretend to be the computer program that you are trying to create. Examine the sample inputs and manually produce the appropriate results. Afterward, verify the correctness of your logic by comparing with the given sample outputs. \n",
    "\n",
    "3. Write on a scrap piece of paper step-by-step instructions so that someone else can pretend to be the computer program and produce the appropriate results for any possible inputs. These instructions should target a human audience who does not know the problem description and only has your instructions as guide. Refer to these instructions as your \"plan\".\n",
    "\n",
    "4. On another scrap piece of paper, write fragments of Python code to implement each step in your plan (from Step 3), focusing especially on the trickiest parts of the logic.\n",
    "\n",
    "5. Following your plan (from Step 3) and code fragments (from Step 4), type Python code into a new Jupyter notebook cell to solve the given problem. You should type incrementally and run the code whenever you added a small chunk, so as to correct errors as you go. It may also be helpful to print intermediate results to verify that the code indeed is carrying out the logic described in your plan.\n",
    "\n",
    "6. Run your code with the sample inputs and verify that the outputs are exactly the same as the sample outputs. Try also with other inputs that you make up and manually check that your program is correct. When there are Syntax errors, note that the arrows in the error message identify the line containing the error, and the last line of the error message contains a description of the error. You may find it helpful to Google for this description in the last line.\n",
    "\n",
    "7. After finishing all problems, click \"Kernel -> Restart & Run All\" and verify that your outputs for all problems continue to be correct. This ensures that someone else will be able to replicate your results when running your notebook.\n",
    "\n",
    "8. Submit the .ipynb notebook file on Blackboard by the deadline. **Note that you only need to submit the code from Step 6, but Steps 1-5 are to guide your thinking process.** Steps 1-5 above are the essence of algorithmic thinking, which will be discussed in more detail in Weeks 3-4.\n",
    "\n",
    "### Grading\n",
    "\n",
    "There are three possible scores you can get from submitting this assignment on time (submitting a blank file or one without any apparent effort does not count). Note that the rubric is designed to incentivize you to go for 100% mastery of the material, as the details matter a lot in programming. \n",
    "\n",
    "| Grade | Description |\n",
    "|--|--|\n",
    "| 5 out of 5 | Perfect submission with no significant errors. | \n",
    "| 4 out of 5 | Near perfect submission with one or more significant errors. |\n",
    "| 2 out of 5 | Apparent effort but far from perfect. |"
   ]
  },
  {
   "cell_type": "markdown",
   "metadata": {},
   "source": [
    "## Q1. Payroll Calculations\n",
    "\n",
    "In a certain company, the part-time employees receive a wage based on the number of hours logged each week. Write a function called \"payroll\" with two input arguments:\n",
    "\n",
    "- hours: a list of non-negative numbers corresponding to the number of hours an employee logged in successive weeks.\n",
    "- rate: the hourly wage for the employee.\n",
    "\n",
    "However, a part-time employee can only be paid for at most 20 hours in any given week, so if the employee logs more than 20 hours in a week, he/she/they will only be paid for 20 hours. \n",
    "\n",
    "The program should print (not return) a statement summarizing the total wage as well as the average wage per week. The outputed statements must exactly match the sample outputs below in their formatting.\n",
    "\n",
    "**Sample run 1:**\n",
    "```python\n",
    "payroll([5,3,2,4],10)\n",
    "```\n",
    "\n",
    "**Sample output 1:**\n",
    "```\n",
    "The total wage is $140. Average is $35.0 per week.\n",
    "```\n",
    "\n",
    "**Sample run 2:**\n",
    "```python\n",
    "payroll([25,15,14,30,0],12.5)\n",
    "```\n",
    "\n",
    "**Sample output 2:**\n",
    "```\n",
    "The total wage is $862.5. Average is $172.5 per week.\n",
    "```"
   ]
  },
  {
   "cell_type": "code",
   "execution_count": 1,
   "metadata": {},
   "outputs": [],
   "source": [
    "# Write your function here\n",
    "def payroll(hours, rate):\n",
    "    TotalPay = 0\n",
    "    for i in hours:\n",
    "        if i >= 20:\n",
    "            TotalPay += rate * 20\n",
    "        else:\n",
    "            TotalPay += i * rate\n",
    "    print(f'The total wage is ${TotalPay}. Average is ${TotalPay/len(hours)} per week.')"
   ]
  },
  {
   "cell_type": "code",
   "execution_count": 2,
   "metadata": {},
   "outputs": [
    {
     "name": "stdout",
     "output_type": "stream",
     "text": [
      "The total wage is $140. Average is $35.0 per week.\n"
     ]
    }
   ],
   "source": [
    "# Sample run 1\n",
    "payroll([5,3,2,4],10)"
   ]
  },
  {
   "cell_type": "code",
   "execution_count": 3,
   "metadata": {},
   "outputs": [
    {
     "name": "stdout",
     "output_type": "stream",
     "text": [
      "The total wage is $862.5. Average is $172.5 per week.\n"
     ]
    }
   ],
   "source": [
    "# Sample run 2\n",
    "payroll([25,15,14,30,0],12.5)"
   ]
  },
  {
   "cell_type": "markdown",
   "metadata": {},
   "source": [
    "## Q2. Sentence Analysis\n",
    "\n",
    "Write a function called \"analyzeSentence\" with one input argument:\n",
    "\n",
    "- sentence: a string of words separated by spaces, but without punctuations.\n",
    "\n",
    "The function should print (not return) a statement with the word count and the average length of the word, rounded to 2 decimal places. See the sample output for how the outputed statement should be formated (you must format in the exact same way.) \n",
    "\n",
    "**Hint:** You can use the str.split function, which splits a given string into words by spaces, as illustrated below.\n",
    "\n",
    "```python\n",
    "'I love programming'.split()\n",
    "```\n",
    "Would return the list `['I','love','programming']`.\n",
    "\n",
    "**Sample run 1:**\n",
    "```python\n",
    "analyzeSentence('I love programming in Python')\n",
    "```\n",
    "\n",
    "**Sample output 1:**\n",
    "```\n",
    "This sentence has 5 words. Average word length: 4.8\n",
    "```\n",
    "\n",
    "**Sample run 2:**\n",
    "```python\n",
    "analyzeSentence('The quick brown fox jumps over the lazy dog')\n",
    "```\n",
    "\n",
    "**Sample output 2:**\n",
    "```\n",
    "This sentence has 9 words. Average word length: 3.89\n",
    "```"
   ]
  },
  {
   "cell_type": "code",
   "execution_count": 4,
   "metadata": {},
   "outputs": [],
   "source": [
    "# Write your function here\n",
    "def analyzeSentence(sentence):\n",
    "    words = sentence.split()\n",
    "    length = 0\n",
    "    for i in words:\n",
    "        length += len(i)\n",
    "    print(f'This sentence has {len(words)} words. Average word length: {round(length/len(words),2)}')"
   ]
  },
  {
   "cell_type": "code",
   "execution_count": 5,
   "metadata": {},
   "outputs": [
    {
     "name": "stdout",
     "output_type": "stream",
     "text": [
      "This sentence has 5 words. Average word length: 4.8\n"
     ]
    }
   ],
   "source": [
    "# Sample run 1\n",
    "analyzeSentence('I love programming in Python')"
   ]
  },
  {
   "cell_type": "code",
   "execution_count": 6,
   "metadata": {},
   "outputs": [
    {
     "name": "stdout",
     "output_type": "stream",
     "text": [
      "This sentence has 9 words. Average word length: 3.89\n"
     ]
    }
   ],
   "source": [
    "# Sample run 2\n",
    "analyzeSentence('The quick brown fox jumps over the lazy dog')"
   ]
  },
  {
   "cell_type": "markdown",
   "metadata": {},
   "source": [
    "## Q3. Demand Estimation\n",
    "\n",
    "This problem asks you to create a tool that can help a company to estimate demand for a new product. Write a function called \"demand\" which takes in two input parameters:\n",
    "\n",
    "- valuations: a list of positive numbers. Each number corresponds to a potential customer and represents the maximum price a customer is willing to pay for the product. \n",
    "- price: a positive number corresponding to the price of the product. \n",
    "\n",
    "The function should return one non-negative integer, which is the number of elements of the list \"valuations\" which is greater than or equal to the price. See the sample outputs below. \n",
    "\n",
    "**Sample run 1:**\n",
    "```python\n",
    "demand([3,1,9.5,10,9],9.5)\n",
    "```\n",
    "\n",
    "The returned result should be 2, since there are two entries in the list that are greater than or equal to 9.5.\n",
    "\n",
    "**Sample run 2:**\n",
    "```python\n",
    "demand([10,53.5,33,12,15,19.5],100)\n",
    "```\n",
    "\n",
    "The returned result should be 0, since none of the customers are willing to pay 100 dollars for the product. \n",
    "\n",
    "**Sample run 3:**\n",
    "```python\n",
    "v=[4,10,3,15,4,1,20,5]\n",
    "p=8\n",
    "print(f'Estimated demand is {demand(v,p)}.')\n",
    "```\n",
    "\n",
    "This should print the message\n",
    "\n",
    "```\n",
    "Estimated demand is 3.\n",
    "```"
   ]
  },
  {
   "cell_type": "code",
   "execution_count": 7,
   "metadata": {},
   "outputs": [],
   "source": [
    "# Write your function here\n",
    "def demand(valuations, price):\n",
    "    return len([i for i in valuations if i >= price])"
   ]
  },
  {
   "cell_type": "code",
   "execution_count": 8,
   "metadata": {},
   "outputs": [
    {
     "data": {
      "text/plain": [
       "2"
      ]
     },
     "execution_count": 8,
     "metadata": {},
     "output_type": "execute_result"
    }
   ],
   "source": [
    "# Sample run 1\n",
    "demand([3,1,9.5,10,9],9.5)"
   ]
  },
  {
   "cell_type": "code",
   "execution_count": 9,
   "metadata": {},
   "outputs": [
    {
     "data": {
      "text/plain": [
       "0"
      ]
     },
     "execution_count": 9,
     "metadata": {},
     "output_type": "execute_result"
    }
   ],
   "source": [
    "# Sample run 2\n",
    "demand([10,53.5,33,12,15,19.5],100)"
   ]
  },
  {
   "cell_type": "code",
   "execution_count": 10,
   "metadata": {},
   "outputs": [
    {
     "name": "stdout",
     "output_type": "stream",
     "text": [
      "Estimated demand is 3.\n"
     ]
    }
   ],
   "source": [
    "v=[4,10,3,15,4,1,20,5]\n",
    "p=8\n",
    "print(f'Estimated demand is {demand(v,p)}.')"
   ]
  },
  {
   "cell_type": "markdown",
   "metadata": {},
   "source": [
    "## Q4. Estimating Time of Selling Out\n",
    "\n",
    "Suppose that there are limited number of tickets to an event and your goal is to estimate when the tickets will be sold out.\n",
    "\n",
    "Write a function `sellOutTime` with two input arguments:\n",
    "\n",
    "- `demand`: a list of positive integers, representing the forecasted demand in each week. Weeks are numbered from 1 (rather than from 0).\n",
    "- `inventory`: an integer denoting the initial supply of tickets.\n",
    "\n",
    "The function should return the week in which tickets will sell out. If the tickets never sell out in the given weeks, then the function should return the week after the given horizon.  \n",
    "\n",
    "For example, if `demand=[50,80,89]` (representing a demand of 50 in week 1, 80 in week 2, and 90 in week 3), then \n",
    "\n",
    "- if initial inventory is 10, the tickets will sell out in week 1. (Function returns 1.)\n",
    "- if initial inventory is 50, the function should still return 1.\n",
    "- if initial inventory is 60, function should return 2. (Because supply lasts into week 2.)\n",
    "- if initial inventory is 300, function should return 4. (Supply lasts even after the 3 weeks are over.)"
   ]
  },
  {
   "cell_type": "code",
   "execution_count": 11,
   "metadata": {},
   "outputs": [],
   "source": [
    "# Write your function here\n",
    "def sellOutTime(demand, inventory):\n",
    "    TotalSold = 0\n",
    "    week = 1\n",
    "    for i in demand:\n",
    "        TotalSold += i\n",
    "        if TotalSold >= inventory:\n",
    "            break\n",
    "        week += 1\n",
    "    return week"
   ]
  },
  {
   "cell_type": "markdown",
   "metadata": {},
   "source": [
    "The following code illustrates the use of the function after you complete it."
   ]
  },
  {
   "cell_type": "code",
   "execution_count": 12,
   "metadata": {},
   "outputs": [
    {
     "name": "stdout",
     "output_type": "stream",
     "text": [
      "With initial inventory 10 supply will last until week 1\n",
      "With initial inventory 50 supply will last until week 1\n",
      "With initial inventory 60 supply will last until week 2\n",
      "With initial inventory 130 supply will last until week 2\n",
      "With initial inventory 220 supply will last until week 4\n",
      "With initial inventory 500 supply will last until week 6\n",
      "With initial inventory 1000 supply will last until week 9\n"
     ]
    }
   ],
   "source": [
    "demand=[50,80,89,100,120,140,100,80]\n",
    "for inventory in [10,50,60,130,220,500,1000]:\n",
    "    print('With initial inventory',inventory,'supply will last until week',sellOutTime(demand,inventory))"
   ]
  },
  {
   "cell_type": "markdown",
   "metadata": {},
   "source": [
    "The following code illustrates what is going on in each iteration of the loop when initial inventory is 500."
   ]
  },
  {
   "cell_type": "code",
   "execution_count": 13,
   "metadata": {},
   "outputs": [
    {
     "name": "stdout",
     "output_type": "stream",
     "text": [
      "Week\tDemand\tRemaining Inventory\n",
      "0\t\t500\n",
      "1\t50\t450\n",
      "2\t80\t370\n",
      "3\t89\t281\n",
      "4\t100\t181\n",
      "5\t120\t61\n",
      "6\t140\t-79\n"
     ]
    }
   ],
   "source": [
    "demand=[50,80,89,100,120,140,100,80]\n",
    "inventory=500\n",
    "i=1\n",
    "print('Week\\tDemand\\tRemaining Inventory')\n",
    "print(f'0\\t\\t{inventory}')\n",
    "for num in demand:\n",
    "    inventory=inventory-num\n",
    "    print(f'{i}\\t{num}\\t{inventory}')\n",
    "    if inventory<=0:\n",
    "        break\n",
    "    i+=1"
   ]
  }
 ],
 "metadata": {
  "kernelspec": {
   "display_name": "Python 3",
   "language": "python",
   "name": "python3"
  },
  "language_info": {
   "codemirror_mode": {
    "name": "ipython",
    "version": 3
   },
   "file_extension": ".py",
   "mimetype": "text/x-python",
   "name": "python",
   "nbconvert_exporter": "python",
   "pygments_lexer": "ipython3",
   "version": "3.8.8"
  }
 },
 "nbformat": 4,
 "nbformat_minor": 2
}
