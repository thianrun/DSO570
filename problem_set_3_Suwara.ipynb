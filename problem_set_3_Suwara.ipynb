{
 "cells": [
  {
   "cell_type": "markdown",
   "metadata": {},
   "source": [
    "# Name: Suwara Thainrungrot\n",
    "\n",
    "# Problem Set 3\n",
    "\n",
    "### Learning Objective:\n",
    "\n",
    "- Create Python code to automate a given task.\n",
    "\n",
    "### Overview:\n",
    "\n",
    "This problem set assesses your algorithmic thinking, which is the focus of Week 3. For each problem, you are required to go through each of four steps as described in the lectures to Week 3. See the sample solutions to Exercise 3.6 for an example of the desired format of your responses.\n",
    "\n",
    "### Grading\n",
    "\n",
    "There are three possible scores you can get from submitting this assignment on time (submitting a blank file or one without any apparent effort does not count). Note that the rubric is designed to incentivize you to go for 100% mastery of the material, as the little details matter a lot in programming. \n",
    "\n",
    "| Grade | Description |\n",
    "|--|--|\n",
    "| 5 out of 5 | Perfect submission with no significant errors. | \n",
    "| 4 out of 5 | Near perfect submission with one or more significant errors. |\n",
    "| 2 out of 5 | Apparent effort but far from perfect. |\n",
    "\n",
    "\n",
    "## Q1. Investment Accounting \n",
    "\n",
    "This question asks you to create a tool to perform simple accounting for stock trading. Write a function called \"accounting\" with two input arguments:\n",
    "\n",
    "- prices: a list of positive numbers corresponding to the price of a stock in successive days. \n",
    "- changes: a list of integers (positive or negative) corresponding to the change in the number of shares carried. A positive number corresponds to buying shares of the stock and a negative number corresponds to selling. It is possible for you to own net negative shares of the stock.\n",
    "\n",
    "You may assume that the two lists are of the same length. The function should return (not print) the following two numbers:\n",
    "\n",
    "- net change in shares: the sum of the numbers in the list \"changes\".\n",
    "- net change in cash: the net money spent or earned over the trades in the list \"changes\". Buying the stock costs money and selling it earns money. \n",
    "\n",
    "For example, if `prices=[10,12,13,8,7,15]` and `changes=[3,2,-5,3,1,-5]`, the following table illustrates the calculations.\n",
    "\n",
    "|Price | Change | Cashflow |\n",
    "|--|--|--|\n",
    "|10|+3 | -30 |\n",
    "|12|+2 | -24 |\n",
    "|13|-5 | 65 |\n",
    "|8 | +3 | -24 |\n",
    "|7 | +1 | -7 |\n",
    "|15|-5 | 75 |\n",
    "|**Net**| **-1** | **55** |\n",
    "\n",
    "**Sample run:**\n",
    "```python\n",
    "netShares,netCash=accounting([10,12,13,8,7,15],[3,2,-5,3,1,-5])\n",
    "print(f'Net change in position: {netShares} shares.')\n",
    "print(f'Net change in cash: {netCash} dollars.')\n",
    "```\n",
    "\n",
    "**Sample output:**\n",
    "```\n",
    "Net change in position: -1 shares.\n",
    "Net change in cash: 55 dollars.\n",
    "```"
   ]
  },
  {
   "cell_type": "markdown",
   "metadata": {},
   "source": [
    "### Applying Algorithmic Thinking:\n",
    "\n",
    "**Step 1. Understand** (Write your summary of the task in this cell:)\n",
    "\n",
    "Create function that calculate net change in shares and cash in buying stocks."
   ]
  },
  {
   "cell_type": "markdown",
   "metadata": {},
   "source": [
    "**Step 2. Decompose** (Write your instructions in this Markdown cell)\n",
    "\n",
    "   1. Caculate an additive inverse of a product of price and change. This is cashflow in each trade.\n",
    "   2. Sum all of the value in list \"change\". This is \"net change\".\n",
    "   3. Sum all of the value in list \"cash flow\". This is \"net cash\"."
   ]
  },
  {
   "cell_type": "markdown",
   "metadata": {},
   "source": [
    "**Step 3. Analyze** (Write code fragments in separate code cells to implement the trickiest steps. Do not think there is a single correct set of codes. Try your own way.)"
   ]
  },
  {
   "cell_type": "code",
   "execution_count": 1,
   "metadata": {},
   "outputs": [
    {
     "data": {
      "text/plain": [
       "[-30, -24, 65, -24, -7, 75]"
      ]
     },
     "execution_count": 1,
     "metadata": {},
     "output_type": "execute_result"
    }
   ],
   "source": [
    "# calculate cashflow in each trade\n",
    "prices = [10,12,13,8,7,15]\n",
    "changes = [3,2,-5,3,1,-5]\n",
    "\n",
    "[p * v * -1 for p, v in zip(prices, changes)]"
   ]
  },
  {
   "cell_type": "code",
   "execution_count": 2,
   "metadata": {},
   "outputs": [
    {
     "data": {
      "text/plain": [
       "-1"
      ]
     },
     "execution_count": 2,
     "metadata": {},
     "output_type": "execute_result"
    }
   ],
   "source": [
    "# calculate sum of cashflow\n",
    "prices = [10,12,13,8,7,15]\n",
    "changes = [3,2,-5,3,1,-5]\n",
    "\n",
    "sum(changes)"
   ]
  },
  {
   "cell_type": "code",
   "execution_count": 3,
   "metadata": {},
   "outputs": [
    {
     "data": {
      "text/plain": [
       "55"
      ]
     },
     "execution_count": 3,
     "metadata": {},
     "output_type": "execute_result"
    }
   ],
   "source": [
    "# calculate sum of cashflow\n",
    "prices = [10,12,13,8,7,15]\n",
    "changes = [3,2,-5,3,1,-5]\n",
    "\n",
    "sum([p * v * -1 for p, v in zip(prices, changes)])"
   ]
  },
  {
   "cell_type": "markdown",
   "metadata": {},
   "source": [
    "**Step 4. Synthesize** (Combine your code fragments from Step 3, but do so in an incremental fashion and print intermediate results. Again, do it your own way, but your final code should work.)"
   ]
  },
  {
   "cell_type": "code",
   "execution_count": 4,
   "metadata": {},
   "outputs": [
    {
     "name": "stdout",
     "output_type": "stream",
     "text": [
      "Net change in position: -1 shares.\n",
      "Net change in cash: 55 dollars.\n"
     ]
    }
   ],
   "source": [
    "# Version with intermediate printing and without function encapsulation\n",
    "\n",
    "prices = [10,12,13,8,7,15]\n",
    "changes = [3,2,-5,3,1,-5]\n",
    "# cashflow = []\n",
    "\n",
    "cashflow = [p * v * -1 for p, v in zip(prices, changes)]\n",
    "netCash = sum(cashflow)\n",
    "netShares = sum(changes)\n",
    "\n",
    "print(f'Net change in position: {netShares} shares.')\n",
    "print(f'Net change in cash: {netCash} dollars.')"
   ]
  },
  {
   "cell_type": "code",
   "execution_count": 5,
   "metadata": {},
   "outputs": [],
   "source": [
    "# Final code\n",
    "def accounting(prices, changes):\n",
    "    cashflow = [p * v * -1 for p, v in zip(prices, changes)]\n",
    "    netCash = sum(cashflow)\n",
    "    netShares = sum(changes)\n",
    "    return [netShares, netCash]"
   ]
  },
  {
   "cell_type": "code",
   "execution_count": 6,
   "metadata": {},
   "outputs": [
    {
     "name": "stdout",
     "output_type": "stream",
     "text": [
      "Net change in position: -1 shares.\n",
      "Net change in cash: 55 dollars.\n"
     ]
    }
   ],
   "source": [
    "# Sample run\n",
    "netShares,netCash=accounting([10,12,13,8,7,15],[3,2,-5,3,1,-5])\n",
    "print(f'Net change in position: {netShares} shares.')\n",
    "print(f'Net change in cash: {netCash} dollars.')"
   ]
  },
  {
   "cell_type": "markdown",
   "metadata": {},
   "source": [
    "## Q2. Demand Estimation with $n$ Substitutable Products\n",
    "\n",
    "This exercise generalizes Exercise 3.6 to $n$ products, where $n$ is any positive integer.\n",
    "\n",
    "Write a function called `demand` with two input arguments:\n",
    "\n",
    "- `prices`: a list of $n$ prices, one for each product. \n",
    "- `values`: a list in which each element represents a customer's valuations for the $n$ products. The valuations is a list of length $n$, which corresponds to the customer's willingness to pay for each of the $n$ products.\n",
    "\n",
    "The function should return a list of length $n$ representing the number of each product sold. You should assume that each customer:\n",
    "\n",
    "- Does not purchase anything if his/her valuation for each product is strictly less than its price.\n",
    "- Otherwise, purchase the product in which the difference between his/her valuation and the price is the largest. When there is a tie, the customer will purchase the product with the smaller index. \n",
    "\n",
    "For example, if `prices=[10,8,12]`, then\n",
    "\n",
    "- A customer with valuations `[9,7,11]` purchases nothing.\n",
    "- A customer with valuations `[10,8,12]` purchases product 1.\n",
    "- A customer with valuations `[9,8,12]` purchases product 2.\n",
    "- A customer with valuations `[9,8,13]` purchases product 3.\n",
    "\n",
    "**Sample run 1:**\n",
    "\n",
    "```python\n",
    "prices=[10,8,12]\n",
    "values=[[9,7,11],[10,8,12],[9,8,12],[9,8,13]]\n",
    "ans=demand(prices,values)\n",
    "for i in range(len(prices)):\n",
    "    print(f'Demand for product {i+1}:',ans[i])\n",
    "```\n",
    "\n",
    "**Correct output:**\n",
    "\n",
    "```\n",
    "Demand for product 1: 1\n",
    "Demand for product 2: 1\n",
    "Demand for product 3: 1\n",
    "```\n",
    "\n",
    "**Sample run 2:**\n",
    "\n",
    "```python\n",
    "prices=[20,15,30]\n",
    "values=[[30,30,20],[40,10,15],[18,13,29],[40,30,50],[10,30,50],[10,10,10],[20,15,30]]\n",
    "ans=demand(prices,values)\n",
    "for i in range(len(prices)):\n",
    "    print(f'Demand for product {i+1}:',ans[i])\n",
    "   ```\n",
    "   \n",
    "**Correct output:**\n",
    "\n",
    "```\n",
    "Demand for product 1: 3\n",
    "Demand for product 2: 1\n",
    "Demand for product 3: 1\n",
    "```"
   ]
  },
  {
   "cell_type": "markdown",
   "metadata": {},
   "source": [
    "### Applying Algorithmic Thinking:\n",
    "\n",
    "**Step 1. Understand** (Write your summary of the task in this cell:)\n",
    "\n",
    "Calculate number of phone will be sold for each product by comparing the expected value with price. If the expected value equal to or more than the price, customers will buy it."
   ]
  },
  {
   "cell_type": "markdown",
   "metadata": {},
   "source": [
    "**Step 2. Decompose** (Write your instructions in this Markdown cell)\n",
    "\n",
    "   1. Find delta between the price of product and expected value of each customers and store them in list called \"delta_price\".\n",
    "   2. Unless all values in delta_price is negative, find index of the max value in list \"delta_price\" that is greater than or equal to 0 and store it in a new list named \"potential_purchase\"\n",
    "   3. Count number of each indexes in  that appear in the \"potential_purchase\" list. Then append it into the new list named \"product_sold\".\n",
    "   4. Fuction will return list \"product_sold\""
   ]
  },
  {
   "cell_type": "markdown",
   "metadata": {},
   "source": [
    "**Step 3. Analyze** (Write code fragments in separate code cells to implement the trickiest steps. Do not think there is a single correct set of codes below. Do it your own way.)"
   ]
  },
  {
   "cell_type": "code",
   "execution_count": 7,
   "metadata": {},
   "outputs": [
    {
     "data": {
      "text/plain": [
       "[-1, -1, -1]"
      ]
     },
     "execution_count": 7,
     "metadata": {},
     "output_type": "execute_result"
    }
   ],
   "source": [
    "prices=[10,8,12]\n",
    "values=[[9,7,11]]\n",
    "\n",
    "for i in values:\n",
    "    delta_price = [p - v for v, p in zip(prices, i)]\n",
    "\n",
    "delta_price"
   ]
  },
  {
   "cell_type": "code",
   "execution_count": 8,
   "metadata": {},
   "outputs": [
    {
     "data": {
      "text/plain": [
       "[0, 1, 2]"
      ]
     },
     "execution_count": 8,
     "metadata": {},
     "output_type": "execute_result"
    }
   ],
   "source": [
    "prices=[10,8,12]\n",
    "values=[[9,7,11],[10,8,12],[9,8,12],[9,8,13]]\n",
    "potential_purchase = []\n",
    "\n",
    "for i in values:\n",
    "    delta_price = [p - v for v, p in zip(prices, i)]\n",
    "    if sum([True for i in delta_price if i >= 0]) > 0:\n",
    "        potential_purchase.append(delta_price.index(max(delta_price)))\n",
    "\n",
    "potential_purchase"
   ]
  },
  {
   "cell_type": "code",
   "execution_count": 9,
   "metadata": {},
   "outputs": [
    {
     "data": {
      "text/plain": [
       "[1, 1, 1]"
      ]
     },
     "execution_count": 9,
     "metadata": {},
     "output_type": "execute_result"
    }
   ],
   "source": [
    "prices=[10,8,12]\n",
    "values=[[9,7,11],[10,8,12],[9,8,12],[9,8,13]]\n",
    "potential_purchase = []\n",
    "product_sold = []\n",
    "\n",
    "for i in values:\n",
    "    delta_price = [p - v for v, p in zip(prices, i)]\n",
    "    if sum([True for i in delta_price if i >= 0]) > 0:\n",
    "        potential_purchase.append(delta_price.index(max(delta_price)))\n",
    "\n",
    "for i in range(len(prices)):\n",
    "    product_sold.append(sum(True for p in potential_purchase if p == i))\n",
    "    \n",
    "product_sold"
   ]
  },
  {
   "cell_type": "markdown",
   "metadata": {},
   "source": [
    "**Step 4. Synthesize** (Combine your code fragments from Step 3, but do so in an incremental fashion and print intermediate results. Again, do it your own way, but your final code should run successfully.)"
   ]
  },
  {
   "cell_type": "code",
   "execution_count": 10,
   "metadata": {},
   "outputs": [
    {
     "name": "stdout",
     "output_type": "stream",
     "text": [
      "Demand for product 1: 1\n",
      "Demand for product 2: 1\n",
      "Demand for product 3: 1\n"
     ]
    }
   ],
   "source": [
    "# Version for debugging: with intermediate printing and no function encapsulation\n",
    "prices=[10,8,12] \n",
    "values=[[9,7,11],[10,8,12],[9,8,12],[9,8,13]]\n",
    "potential_purchase = []\n",
    "product_sold = []\n",
    "\n",
    "for i in values:\n",
    "    delta_price = [p - v for v, p in zip(prices, i)]\n",
    "    if sum([True for i in delta_price if i >= 0]) > 0:\n",
    "        potential_purchase.append(delta_price.index(max(delta_price)))\n",
    "\n",
    "for i in range(len(prices)):\n",
    "    product_sold.append(sum(True for p in potential_purchase if p == i))\n",
    "\n",
    "for i in range(len(prices)):\n",
    "    print(f'Demand for product {i+1}:',product_sold[i])"
   ]
  },
  {
   "cell_type": "code",
   "execution_count": 11,
   "metadata": {},
   "outputs": [],
   "source": [
    "# Final code: removing intermediate printing and encapuslating in a function\n",
    "def demand(prices,values):\n",
    "    \n",
    "    potential_purchase = []\n",
    "    product_sold = []\n",
    "\n",
    "    for i in values:\n",
    "        delta_price = [p - v for v, p in zip(prices, i)]\n",
    "        if sum([True for i in delta_price if i >= 0]) > 0:\n",
    "            potential_purchase.append(delta_price.index(max(delta_price)))\n",
    "\n",
    "    for i in range(len(prices)):\n",
    "        product_sold.append(sum(True for p in potential_purchase if p == i))\n",
    "    \n",
    "    return product_sold"
   ]
  },
  {
   "cell_type": "code",
   "execution_count": 12,
   "metadata": {},
   "outputs": [
    {
     "name": "stdout",
     "output_type": "stream",
     "text": [
      "Demand for product 1 : 1\n",
      "Demand for product 2 : 1\n",
      "Demand for product 3 : 1\n"
     ]
    }
   ],
   "source": [
    "# Sample run 1\n",
    "prices=[10,8,12]\n",
    "values=[[9,7,11],[10,8,12],[9,8,12],[9,8,13]]\n",
    "ans=demand(prices,values)\n",
    "for i in range(len(prices)):\n",
    "    print('Demand for product',i+1,':',ans[i])"
   ]
  },
  {
   "cell_type": "code",
   "execution_count": 13,
   "metadata": {},
   "outputs": [
    {
     "name": "stdout",
     "output_type": "stream",
     "text": [
      "Demand for product 1 : 3\n",
      "Demand for product 2 : 1\n",
      "Demand for product 3 : 1\n"
     ]
    }
   ],
   "source": [
    "# Sample run 2\n",
    "prices=[20,15,30]\n",
    "values=[[30,30,20],[40,10,15],[18,13,29],[40,30,50],[10,30,50],[10,10,10],[20,15,30]]\n",
    "ans=demand(prices,values)\n",
    "for i in range(len(prices)):\n",
    "    print('Demand for product',i+1,':',ans[i])"
   ]
  },
  {
   "cell_type": "markdown",
   "metadata": {},
   "source": [
    "## Q3. Grocery Store Restocking\n",
    "\n",
    "This question asks you to make a tool that helps a grocery store to analyze their policy for restocking shelves for a certain non-perishable item. Write a function called `analyzeScenario` with three input parameters:\n",
    "\n",
    "- `demandList`: a non-empty list of non-negative integers representing the forecasted daily demand for the item, corresponding to a period of consecutive days. The number of days is `len(demandList)`.\n",
    "- `stockingLevel`: a positive integer representing the maximum number of units that the store will stock on its shelves at any time.\n",
    "- `minimumLevel`: a non-negative integer representing the minimum number of units on the shelves that the store can tolerate without restocking. \n",
    "\n",
    "Assume that the store makes its stocking decision at the end of each day after closing. If the leftover inventory on the shelf at the end of a day is strictly below the \"minimumLevel\", then the store will restock to a full shelf, and the inventory at the beginning of the next day will be equal to \"stockingLevel\". If the leftover inventory at the end of a day is greater than or equal to \"minimumLevel\", then the store will not add anything to the shelf, and the inventory at the beginning of the next day will be the same as the leftover inventory. On the first day, the shelf is full, so the inventory level is equal to \"stockingLevel\".\n",
    "\n",
    "Your function should print (not return) the number of times it would decide to restock during the period represented by the input data. \n",
    "\n",
    "For example, the sample run\n",
    "```python\n",
    "analyzeScenario([3,4,2,5,15,3,9,3,1,3,9],10,3)\n",
    "```\n",
    "should result in exactly the following message printed to screen.\n",
    "```\n",
    "The store needs to restock 4 times.\n",
    "```\n",
    "The following table illustrates the inventory dynamics.\n",
    "\n",
    "| Beginning Inventory | Demand |   Leftover Inventory | Restock? |\n",
    "|--|--|--|--|\n",
    "|10|3 |7 |No |\n",
    "|7 |4 |3 |No |\n",
    "|3 |2 |1 | Yes |\n",
    "|10|5 |5 | No |\n",
    "| 5|15|0 |Yes |\n",
    "|10|3|7 | No|\n",
    "|7|9 | 0 | Yes |\n",
    "|10|3| 7 | No |\n",
    "|7 |1 | 6 | No |\n",
    "|6 | 3|  3 | No |\n",
    "|3 | 9 |  0 | Yes |\n",
    "|**# of times to restock:**|` `|` `| **4**|\n",
    "\n",
    "Note that if demand is greater than the beginning inventory, the leftover inventory is zero. Otherwise, the leftover inventory is equal to the beginning inventory minus the demand. The final answer (the number of times to restock) is equal to the number of Yes's in the last column of the table.\n",
    "\n",
    "**Sample run 2:**\n",
    "```python\n",
    "analyzeScenario([3,4,2,5,15,3,9,3,1,3,9],9,3)\n",
    "```\n",
    "\n",
    "The printed message should be exactly as below:\n",
    "```\n",
    "The store needs to restock 6 times.\n",
    "\n",
    "```\n",
    "\n",
    "**Sample run 3:**\n",
    "```python\n",
    "analyzeScenario([8,3,2,6,9,3,5,2,9,10],9,5)\n",
    "```\n",
    "\n",
    "The printed message should be exactly as below:\n",
    "\n",
    "```\n",
    "The store needs to restock 7 times.\n",
    "\n",
    "```"
   ]
  },
  {
   "cell_type": "markdown",
   "metadata": {},
   "source": [
    "### Applying Algorithmic Thinking:\n",
    "\n",
    "**Step 1. Understand** (Write your summary of the task in this cell:)\n",
    "\n",
    "The function will calculate how many times the store needs to restock during the given period."
   ]
  },
  {
   "cell_type": "markdown",
   "metadata": {},
   "source": [
    "**Step 2. Decompose** (Write your instructions in this Markdown cell)\n",
    "\n",
    "   1. There are three elements for this fuction. \\\n",
    "     a. demandsList: list of demands during the given period \\\n",
    "     b. stockingLevel: the number of inventory when store newly restocked \\\n",
    "     c. minimumLevel: the lowest stock that doesn't need to restock \n",
    "   2. Calculate first day leftover inventory for each day by subtracting beginning inventory with demand and append it to a list called \"leftover_inv\"\n",
    "   3. If leftover inventory less than minimum level, append \"True\" in a new list called \"restock\" and set \"beginning_inv\" = stockingLevel.\n",
    "      If leftover inventory more than or equal to minimumLevel, append \"False\" in a new list called \"restock\" and set \"beginning_inv\" = the last element in \"leftover_inv\" list.\n",
    "   4. Calcuate information for the next day by repeating step 1 - 4.\n",
    "   5. After finish calculation for all elements in demands list, print message \"The store needs to restock {sum of all elements in \"restock\" list} times.\""
   ]
  },
  {
   "cell_type": "markdown",
   "metadata": {},
   "source": [
    "**Step 3. Analyze** (Write code fragments in separate code cells to implement the trickiest steps. Do it your own way.)"
   ]
  },
  {
   "cell_type": "code",
   "execution_count": 14,
   "metadata": {},
   "outputs": [
    {
     "data": {
      "text/plain": [
       "[7, 3, 1, 5, 0, 7, 0, 7, 6, 3, 0]"
      ]
     },
     "execution_count": 14,
     "metadata": {},
     "output_type": "execute_result"
    }
   ],
   "source": [
    "demandList = [3,4,2,5,15,3,9,3,1,3,9]\n",
    "stockingLevel = 10\n",
    "minimumLevel = 3\n",
    "leftover_inv = []\n",
    "\n",
    "beginning_inv = stockingLevel\n",
    "for i in demandList:\n",
    "    leftover_inv.append(max(beginning_inv - i,0))\n",
    "    if leftover_inv[-1] < minimumLevel:\n",
    "        beginning_inv = stockingLevel\n",
    "    else:\n",
    "        beginning_inv = leftover_inv[-1]\n",
    "        \n",
    "leftover_inv"
   ]
  },
  {
   "cell_type": "code",
   "execution_count": 15,
   "metadata": {},
   "outputs": [
    {
     "data": {
      "text/plain": [
       "[False, False, True, False, True, False, True, False, False, False, True]"
      ]
     },
     "execution_count": 15,
     "metadata": {},
     "output_type": "execute_result"
    }
   ],
   "source": [
    "demandList = [3,4,2,5,15,3,9,3,1,3,9]\n",
    "stockingLevel = 10\n",
    "minimumLevel = 3\n",
    "leftover_inv = []\n",
    "restock = []\n",
    "\n",
    "beginning_inv = stockingLevel\n",
    "for i in demandList:\n",
    "    leftover_inv.append(max(beginning_inv - i,0))\n",
    "    if leftover_inv[-1] < minimumLevel:\n",
    "        beginning_inv = stockingLevel\n",
    "        restock.append(True)\n",
    "    else:\n",
    "        beginning_inv = leftover_inv[-1]\n",
    "        restock.append(False)\n",
    "        \n",
    "restock"
   ]
  },
  {
   "cell_type": "code",
   "execution_count": 16,
   "metadata": {},
   "outputs": [
    {
     "data": {
      "text/plain": [
       "4"
      ]
     },
     "execution_count": 16,
     "metadata": {},
     "output_type": "execute_result"
    }
   ],
   "source": [
    "demandList = [3,4,2,5,15,3,9,3,1,3,9]\n",
    "stockingLevel = 10\n",
    "minimumLevel = 3\n",
    "leftover_inv = []\n",
    "restock = []\n",
    "\n",
    "beginning_inv = stockingLevel\n",
    "for i in demandList:\n",
    "    leftover_inv.append(max(beginning_inv - i,0))\n",
    "    if leftover_inv[-1] < minimumLevel:\n",
    "        beginning_inv = stockingLevel\n",
    "        restock.append(True)\n",
    "    else:\n",
    "        beginning_inv = leftover_inv[-1]\n",
    "        restock.append(False)\n",
    "        \n",
    "sum(restock)"
   ]
  },
  {
   "cell_type": "markdown",
   "metadata": {},
   "source": [
    "**Step 4. Synthesize** (Combine your code fragments from Step 3, but do so in an incremental fashion and print intermediate results. Do it your own way.)"
   ]
  },
  {
   "cell_type": "code",
   "execution_count": 17,
   "metadata": {},
   "outputs": [
    {
     "name": "stdout",
     "output_type": "stream",
     "text": [
      "The store needs to restock 7 times.\n"
     ]
    }
   ],
   "source": [
    "# Code with intermediate printing\n",
    "demandList = [8,3,2,6,9,3,5,2,9,10]\n",
    "stockingLevel = 9\n",
    "minimumLevel = 5\n",
    "leftover_inv = []\n",
    "restock = []\n",
    "\n",
    "beginning_inv = stockingLevel\n",
    "for i in demandList:\n",
    "    leftover_inv.append(max(beginning_inv - i,0))\n",
    "    if leftover_inv[-1] < minimumLevel:\n",
    "        beginning_inv = stockingLevel\n",
    "        restock.append(True)\n",
    "    else:\n",
    "        beginning_inv = leftover_inv[-1]\n",
    "        restock.append(False)\n",
    "        \n",
    "print(f'The store needs to restock {sum(restock)} times.')"
   ]
  },
  {
   "cell_type": "code",
   "execution_count": 18,
   "metadata": {},
   "outputs": [],
   "source": [
    "# Final code\n",
    "def analyzeScenario(demandList, stockingLevel, minimumLevel):\n",
    "\n",
    "    leftover_inv = []\n",
    "    restock = []\n",
    "    beginning_inv = stockingLevel\n",
    "    for i in demandList:\n",
    "        leftover_inv.append(max(beginning_inv - i,0))\n",
    "        if leftover_inv[-1] < minimumLevel:\n",
    "            beginning_inv = stockingLevel\n",
    "            restock.append(True)\n",
    "        else:\n",
    "            beginning_inv = leftover_inv[-1]\n",
    "            restock.append(False)\n",
    "\n",
    "    print(f'The store needs to restock {sum(restock)} times.')"
   ]
  },
  {
   "cell_type": "code",
   "execution_count": 19,
   "metadata": {},
   "outputs": [
    {
     "name": "stdout",
     "output_type": "stream",
     "text": [
      "The store needs to restock 4 times.\n"
     ]
    }
   ],
   "source": [
    "# Sample run 1\n",
    "analyzeScenario([3,4,2,5,15,3,9,3,1,3,9],10,3)"
   ]
  },
  {
   "cell_type": "code",
   "execution_count": 20,
   "metadata": {},
   "outputs": [
    {
     "name": "stdout",
     "output_type": "stream",
     "text": [
      "The store needs to restock 6 times.\n"
     ]
    }
   ],
   "source": [
    "# Sample run 2\n",
    "analyzeScenario([3,4,2,5,15,3,9,3,1,3,9],9,3)"
   ]
  },
  {
   "cell_type": "code",
   "execution_count": 21,
   "metadata": {},
   "outputs": [
    {
     "name": "stdout",
     "output_type": "stream",
     "text": [
      "The store needs to restock 7 times.\n"
     ]
    }
   ],
   "source": [
    "# Sample run 3\n",
    "analyzeScenario([8,3,2,6,9,3,5,2,9,10],9,5)"
   ]
  }
 ],
 "metadata": {
  "kernelspec": {
   "display_name": "Python 3",
   "language": "python",
   "name": "python3"
  },
  "language_info": {
   "codemirror_mode": {
    "name": "ipython",
    "version": 3
   },
   "file_extension": ".py",
   "mimetype": "text/x-python",
   "name": "python",
   "nbconvert_exporter": "python",
   "pygments_lexer": "ipython3",
   "version": "3.8.8"
  }
 },
 "nbformat": 4,
 "nbformat_minor": 2
}
