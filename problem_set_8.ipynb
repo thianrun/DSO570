{
 "cells": [
  {
   "cell_type": "markdown",
   "metadata": {},
   "source": [
    "# Problem Set 8\n",
    "\n",
    "### Learning Objective:\n",
    "\n",
    "- Create Gurobi models to optimize.\n",
    "\n",
    "### Overview:\n",
    "\n",
    "This problem set assesses your ability to solve linear optimization models using Gurobi and Python, as discussed in the lectures for Week 10.\n",
    "\n",
    "### Grading\n",
    "\n",
    "There are three possible scores you can get from submitting this assignment on time (submitting a blank file or one without any apparent effort does not count). Note that the rubric is designed to incentivize you to go for 100% mastery of the material, as the little details matter a lot in business analytics. \n",
    "\n",
    "| Grade | Description |\n",
    "|--|--|\n",
    "| 5 out of 5 | Perfect submission with no significant errors. | \n",
    "| 4 out of 5 | Near perfect submission with one or more significant errors. |\n",
    "| 2 out of 5 | Apparent effort but far from perfect. |"
   ]
  },
  {
   "cell_type": "markdown",
   "metadata": {},
   "source": [
    "## Q1. Numerical Solution for Sample Problem 9.2\n",
    "\n",
    "The concrete formulation of Sample Problem 9.2 is reproduced below:\n",
    "\n",
    "**Decision Variables:** Let $X_1, \\cdots, X_7$ denote whether to use each FC. (Binary)\n",
    "\n",
    "**Objective and constraints:**\n",
    "\n",
    "$$\\begin{aligned}\n",
    "\\text{Minimize} && X_1+X_2+\\cdots+X_7 \\\\\n",
    "\\text{s.t.} && X_2+X_5+X_6+X_7 & \\ge 1\\\\\n",
    "&& X_3+X_4 & \\ge 1\\\\\n",
    "&& X_3 & \\ge 1 \\\\\n",
    "&& X_1+X_2+X_4+X_6 & \\ge 1 \\\\\n",
    "&& X_5 + X_7 & \\ge 1\\\\\n",
    "&& X_4 &\\le X_1 \\\\\n",
    "&& X_2+X_3 & \\le 1\n",
    "\\end{aligned}$$\n",
    "\n",
    "**a)** Implement the above using Gurobi. You don't have to use loops to automate recurring patterns. We will work on loops and list comprehensions next week.\n",
    "\n",
    "Suggestion: use x[1], x[2], ..., x[7] for decisions.\n",
    "\n",
    "Do not \"mod.optimize()\" here in this part yet.\n",
    "\n",
    "After you enter the model, use `mod.write`, and `%cat` in Mac or `!type` in Windows to output what the linear optimization formulation looks like according to Gurobi, following Section 10.4. You can use this to verify that you have indeed implemented the above."
   ]
  },
  {
   "cell_type": "code",
   "execution_count": 7,
   "metadata": {},
   "outputs": [
    {
     "name": "stdout",
     "output_type": "stream",
     "text": [
      "\\ LP format - for model browsing. Use MPS format to capture full model detail.\n",
      "Minimize\n",
      "  x[1] + x[2] + x[3] + x[4] + x[5] + x[6] + x[7]\n",
      "Subject To\n",
      " R0: x[2] + x[5] + x[6] + x[7] >= 1\n",
      " R1: x[3] + x[4] >= 1\n",
      " R2: x[3] >= 1\n",
      " R3: x[1] + x[2] + x[4] + x[6] >= 1\n",
      " R4: x[5] + x[7] >= 1\n",
      " R5: - x[1] + x[4] <= 0\n",
      " R6: x[2] + x[3] <= 1\n",
      "Bounds\n",
      "Binaries\n",
      " x[1] x[2] x[3] x[4] x[5] x[6] x[7]\n",
      "End\n"
     ]
    }
   ],
   "source": [
    "# Gurobi code\n",
    "from gurobipy import Model, GRB\n",
    "mod=Model()\n",
    "#continue below\n",
    "x = mod.addVars(range(1,8),name = 'x', vtype = GRB.BINARY)\n",
    "mod.setObjective(sum([x[i] for i in range (1,8)]),sense = GRB.MINIMIZE)\n",
    "mod.addConstr(x[2]+x[5]+x[6]+x[7] >= 1)\n",
    "mod.addConstr(x[3]+x[4] >= 1)\n",
    "mod.addConstr(x[3] >= 1)\n",
    "mod.addConstr(x[1]+x[2]+x[4]+x[6] >= 1)\n",
    "mod.addConstr(x[5]+x[7] >= 1)\n",
    "mod.addConstr(x[4] <= x[1])\n",
    "mod.addConstr(x[2]+x[3] <= 1)\n",
    "#before printing you want to update model.\n",
    "mod.update()\n",
    "#then mod.write to an lp file\n",
    "mod.write('PS8-Q1.lp')\n",
    "#use either cat or type command below to display the lp file\n",
    "%cat PS8-Q1.lp"
   ]
  },
  {
   "cell_type": "markdown",
   "metadata": {},
   "source": [
    "**b)** Execute \"mod.optimize()\" and solve the MIP and print the minimum number of FCs needed, as well as where to stock the items.  You must answer both the number of FCs needed and where to stock. Please set the OutputFlag False.\n"
   ]
  },
  {
   "cell_type": "code",
   "execution_count": 9,
   "metadata": {},
   "outputs": [
    {
     "name": "stdout",
     "output_type": "stream",
     "text": [
      "Optimal FCs needed: 3.0\n",
      "x[1]: 1.0\n",
      "x[2]: 0.0\n",
      "x[3]: 1.0\n",
      "x[4]: 0.0\n",
      "x[5]: 0.0\n",
      "x[6]: 0.0\n",
      "x[7]: 1.0\n"
     ]
    }
   ],
   "source": [
    "# gurobi code\n",
    "mod.setParam('OutputFlag',False)\n",
    "mod.optimize()\n",
    "# enter below print statements to print results.\n",
    "print(f'Optimal FCs needed: {mod.ObjVal}')\n",
    "for i in range(1,8):\n",
    "    print(f'x[{i}]: {x[i].x}')"
   ]
  },
  {
   "cell_type": "markdown",
   "metadata": {},
   "source": [
    "## Q2. Optimal Advertising Plan\n",
    "\n",
    "SALS Marketing Inc. is developing an advertising campaign for a large consumer goods corporation. An advertising plan specifies how many units of each kind of advertisement to purchase. SALS has promised a plan that will yield the highest possible “exposure rating,” which is a measure of the ability to reach the appropriate demographic group and generate demand. The options for advertisements with their respective costs (per unit of advertising) and per-unit exposure ratings are given in the table below (K stands for thousands).\n",
    "\n",
    "| Category | Subcategory | Cost/Unit | Exposure/Unit |\n",
    "|--|--|--|--|\n",
    "| Magazines | Literary | \\$7.5 K | 15 K |\n",
    "| ` ` | News | \\$10 K | 22.5 K |\n",
    "| ` ` | Topical | \\$15 K | 24 K |\n",
    "| Newspapers |  Morning | \\$2 K | 37.5 K |\n",
    "|` `  | Evening | \\$3 K | 75 K |\n",
    "| Television | Morning | \\$20 K | 275 K |\n",
    "| ` ` | Midday | \\$10 K | 180 K |\n",
    "| ` `  | Evening | \\$60 K | 810 K |\n",
    "| Radio | Morning | \\$15 K | 180 K |\n",
    "| ` ` | Midday | \\$15 K | 17 K |\n",
    "| ` ` | Evening | \\$10 K | 16 K |\n",
    "\n",
    "Of course, certain restrictions exist for the advertising campaign. The client corporation has budgeted 800,000 dollars for the campaign, but to restrict overexposure to any particular audience it wants no more than 300,000 dollars put into any one category (Magazine, Newspaper, etc.). Also, to ensure a broad range of exposure, at least 100,000 dollars must be spent in each category. Finally, one has to purchase an integer number of units of each kind of advertisement, as no fractional units are allowed.\n",
    "\n",
    "**a)** Formulate a linear optimization problem to determine the optimal advertising plan. Insert markdown cells below and show your Step1 (English Description) and Step2 (Concrete Formulation)."
   ]
  },
  {
   "cell_type": "markdown",
   "metadata": {},
   "source": [
    "### Step 1\n",
    "\n"
   ]
  },
  {
   "cell_type": "markdown",
   "metadata": {},
   "source": [
    "**Decision:** How many units of each kind of advertisement should be purchased. (Integer)\n",
    "\n",
    "**Objective:** Maximize \\# of exposure rating.\n",
    "\n",
    "**Constraints:** \n",
    "\n",
    "- Total budgeted is 800k.\n",
    "- Each category must be purchased for at most 300k.\n",
    "- Each category must be purchased for at least 300k."
   ]
  },
  {
   "cell_type": "markdown",
   "metadata": {},
   "source": [
    "### Step 2"
   ]
  },
  {
   "cell_type": "markdown",
   "metadata": {},
   "source": [
    "**Decision Variables:** \n",
    "\n",
    "$m_l$: Units of certain kind of magazine-literary advertisement purchased. (Integer)\n",
    "$m_n$: Units of certain kind of magazine-news advertisement purchased. (Integer)\n",
    "$m_t$: Units of certain kind of magazine-topical advertisement purchased. (Integer)\n",
    "$n_m$: Units of certain kind of newspaper-morning advertisement purchased. (Integer)\n",
    "$n_e$: Units of certain kind of newspaper-evening advertisement purchased. (Integer)\n",
    "$t_m$: Units of certain kind of television-morning advertisement purchased. (Integer)\n",
    "$t_n$: Units of certain kind of television-midday advertisement purchased. (Integer)\n",
    "$t_e$: Units of certain kind of television-evening advertisement purchased. (Integer)\n",
    "$r_m$: Units of certain kind of radio-morning advertisement purchased. (Integer)\n",
    "$r_n$: Units of certain kind of radio-midday advertisement purchased. (Integer)\n",
    "$r_e$: Units of certain kind of radio-evening advertisement purchased. (Integer)\n",
    "\n",
    "**Objective and Constraints:**\n",
    "\n",
    "$$\\begin{aligned}\n",
    "\\text{Maximize} && 15m_l + 22.5m_n + 24m_t + 37.5n_m + 75n_e + 275t_m + 180t_n + 810t_e + 180r_m + 17r_n + 16r_e \\\\\n",
    "\\text{s.t.} && \\\\\n",
    "&& 7.5m_l + 10m_n + 15m_t + 2n_m + 3n_e + 20t_m + 10t_n + 60t_e + 15r_m + 15r_n + 10r_e &\\le 800 \\\\\n",
    "&& 100 &\\le 7.5m_l + 10m_n + 15m_t &\\le 300 \\\\\n",
    "&& 100 &\\le 2n_m + 3n_e &\\le 300 \\\\\n",
    "&& 100 &\\le 20t_m + 10t_n + 60t_e &\\le 300 \\\\\n",
    "&& 100 &\\le 15r_m + 15r_n + 10r_e &\\le 300 \\\\\n",
    "&& m_l,m_n,m_t,n_m,n_e,t_m,t_n,t_e,r_m,r_n,r_e &\\ge 0 \\\\\n",
    "\\end{aligned}$$"
   ]
  },
  {
   "cell_type": "markdown",
   "metadata": {},
   "source": [
    "**b)** Write Gurobi code to implement the above formulation. You don't have to use loops, list comprehensions, panda data frame, etc. Our goal is still using gurobi to optimize. We will work on efficiency next week. Please answer the optimal objective value as well as an optimal set of decisions."
   ]
  },
  {
   "cell_type": "code",
   "execution_count": 10,
   "metadata": {},
   "outputs": [
    {
     "name": "stdout",
     "output_type": "stream",
     "text": [
      "Optimal exposure: 14235k\n",
      "Magazine - Literary (m[l]):  0  units\n",
      "Magazine - News (m[n]):  10  units\n",
      "Magazine - Topical (m[t]):  0  units\n",
      "Newspapers - Morning (n[m]):  0  units\n",
      "Newspapers - Evening (n[e]):  98  units\n",
      "Television - Morning (t[m]):  0  units\n",
      "Television - Midday (t[n]):  30  units\n",
      "Television - Evening (t[e]):  0  units\n",
      "Radio - Morning (r[m]):  7  units\n",
      "Radio - Midday (r[n]):  0  units\n",
      "Radio - Evening (r[e]):  0  units\n"
     ]
    }
   ],
   "source": [
    "# gurobi code\n",
    "from gurobi import Model, GRB\n",
    "\n",
    "mod = Model()\n",
    "m = mod.addVars(['l','n','t'],name = 'm',vtype = GRB.INTEGER)\n",
    "n = mod.addVars(['m','e'],name = 'n',vtype = GRB.INTEGER)\n",
    "t = mod.addVars(['m','n','e'],name = 't',vtype = GRB.INTEGER)\n",
    "r = mod.addVars(['m','n','e'],name = 'r',vtype = GRB.INTEGER)\n",
    "mod.setObjective(15*m['l'] + 22.5*m['n'] + 24*m['t'] + 37.5*n['m'] + 75*n['e']+ 275*t['m'] + 180*t['n'] + 810*t['e'] + 180*r['m'] + 17*r['n'] + 16*r['e'],sense=GRB.MAXIMIZE)\n",
    "mod.addConstr(7.5*m['l'] + 10*m['n'] + 15*m['t'] + 2*n['m'] + 3*n['e']+ 20*t['m'] + 10*t['n'] + 60*t['e'] + 15*r['m'] + 15*r['n'] + 10*r['e'] <= 800)\n",
    "mod.addConstr(100 <= 7.5*m['l'] + 10*m['n'] + 15*m['t'])\n",
    "mod.addConstr(7.5*m['l'] + 10*m['n'] + 15*m['t'] <= 300)\n",
    "mod.addConstr(100 <= 2*n['m'] + 3*n['e'])\n",
    "mod.addConstr(2*n['m'] + 3*n['e'] <= 300)\n",
    "mod.addConstr(100 <= 20*t['m'] + 10*t['n'] + 60*t['e'])\n",
    "mod.addConstr(20*t['m'] + 10*t['n'] + 60*t['e'] <= 300)\n",
    "mod.addConstr(100 <= 15*r['m'] + 15*r['n'] + 10*r['e'])\n",
    "mod.addConstr(15*r['m'] + 15*r['n'] + 10*r['e'] <= 300)\n",
    "# #before printing you want to update model.\n",
    "# mod.update()\n",
    "# #then mod.write to an lp file\n",
    "# mod.write('PS8-Q2.lp')\n",
    "# #use either cat or type command below to display the lp file\n",
    "# %cat PS8-Q2.lp\n",
    "# after mod.optimize, please ourput results.\n",
    "mod.setParam('OutputFlag',False)\n",
    "mod.optimize()\n",
    "\n",
    "print(f'Optimal exposure: {int(mod.ObjVal)}k')\n",
    "for a,b in zip(['l','n','t'],['Literary','News','Topical']): \n",
    "    print(f'Magazine - {b} (m[{a}]): ',int(m[a].x),' units')\n",
    "for a,b in zip(['m','e'],['Morning','Evening']): \n",
    "    print(f'Newspapers - {b} (n[{a}]): ',int(n[a].x),' units')\n",
    "for a,b in zip(['m','n','e'],['Morning','Midday','Evening']): \n",
    "    print(f'Television - {b} (t[{a}]): ',int(t[a].x),' units')\n",
    "for a,b in zip(['m','n','e'],['Morning','Midday','Evening']): \n",
    "    print(f'Radio - {b} (r[{a}]): ',int(r[a].x),' units')\n",
    "    "
   ]
  }
 ],
 "metadata": {
  "interpreter": {
   "hash": "58e9d0bbcbc5aa8fd8ef455c7e360d8e49433060d10134250ffe571fc3da7e24"
  },
  "kernelspec": {
   "display_name": "Python 3.8.8 64-bit ('base': conda)",
   "name": "python3"
  },
  "language_info": {
   "codemirror_mode": {
    "name": "ipython",
    "version": 3
   },
   "file_extension": ".py",
   "mimetype": "text/x-python",
   "name": "python",
   "nbconvert_exporter": "python",
   "pygments_lexer": "ipython3",
   "version": "3.8.8"
  }
 },
 "nbformat": 4,
 "nbformat_minor": 2
}
